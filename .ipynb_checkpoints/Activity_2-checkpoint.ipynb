{
 "cells": [
  {
   "cell_type": "markdown",
   "id": "07a746b3-0c8f-4a68-bfdc-f011063e59f3",
   "metadata": {},
   "source": [
    "<h1>Activity : UK Road Accident </h1>\n",
    "<hr>\n",
    "<h2>Analyst : Elysalyn Barlan</h2>"
   ]
  },
  {
   "cell_type": "code",
   "execution_count": 47,
   "id": "4e6cb0cf-e2dc-4082-926b-5662ddd39826",
   "metadata": {},
   "outputs": [],
   "source": [
    "#importing libraries\n",
    "import numpy as np\n",
    "import pandas as pd\n",
    "import warnings\n",
    "import matplotlib.pyplot as plt\n",
    "warnings.filterwarnings('ignore')"
   ]
  },
  {
   "cell_type": "code",
   "execution_count": 2,
   "id": "cb909424-d209-4c02-b235-4568b481fca1",
   "metadata": {},
   "outputs": [],
   "source": [
    "accidents = pd.read_csv('datasets\\\\uk_road_accident.csv')"
   ]
  },
  {
   "cell_type": "code",
   "execution_count": 3,
   "id": "fba62c91-11d2-46a1-935a-998e309058ac",
   "metadata": {},
   "outputs": [
    {
     "data": {
      "text/html": [
       "<div>\n",
       "<style scoped>\n",
       "    .dataframe tbody tr th:only-of-type {\n",
       "        vertical-align: middle;\n",
       "    }\n",
       "\n",
       "    .dataframe tbody tr th {\n",
       "        vertical-align: top;\n",
       "    }\n",
       "\n",
       "    .dataframe thead th {\n",
       "        text-align: right;\n",
       "    }\n",
       "</style>\n",
       "<table border=\"1\" class=\"dataframe\">\n",
       "  <thead>\n",
       "    <tr style=\"text-align: right;\">\n",
       "      <th></th>\n",
       "      <th>Index</th>\n",
       "      <th>Accident_Severity</th>\n",
       "      <th>Accident Date</th>\n",
       "      <th>Latitude</th>\n",
       "      <th>Light_Conditions</th>\n",
       "      <th>District Area</th>\n",
       "      <th>Longitude</th>\n",
       "      <th>Number_of_Casualties</th>\n",
       "      <th>Number_of_Vehicles</th>\n",
       "      <th>Road_Surface_Conditions</th>\n",
       "      <th>Road_Type</th>\n",
       "      <th>Urban_or_Rural_Area</th>\n",
       "      <th>Weather_Conditions</th>\n",
       "      <th>Vehicle_Type</th>\n",
       "    </tr>\n",
       "  </thead>\n",
       "  <tbody>\n",
       "    <tr>\n",
       "      <th>0</th>\n",
       "      <td>200701BS64157</td>\n",
       "      <td>Serious</td>\n",
       "      <td>5/6/2019</td>\n",
       "      <td>51.506187</td>\n",
       "      <td>Darkness - lights lit</td>\n",
       "      <td>Kensington and Chelsea</td>\n",
       "      <td>-0.209082</td>\n",
       "      <td>1</td>\n",
       "      <td>2</td>\n",
       "      <td>Dry</td>\n",
       "      <td>Single carriageway</td>\n",
       "      <td>Urban</td>\n",
       "      <td>Fine no high winds</td>\n",
       "      <td>Car</td>\n",
       "    </tr>\n",
       "    <tr>\n",
       "      <th>1</th>\n",
       "      <td>200701BS65737</td>\n",
       "      <td>Serious</td>\n",
       "      <td>2/7/2019</td>\n",
       "      <td>51.495029</td>\n",
       "      <td>Daylight</td>\n",
       "      <td>Kensington and Chelsea</td>\n",
       "      <td>-0.173647</td>\n",
       "      <td>1</td>\n",
       "      <td>2</td>\n",
       "      <td>Wet or damp</td>\n",
       "      <td>Single carriageway</td>\n",
       "      <td>Urban</td>\n",
       "      <td>Raining no high winds</td>\n",
       "      <td>Car</td>\n",
       "    </tr>\n",
       "    <tr>\n",
       "      <th>2</th>\n",
       "      <td>200701BS66127</td>\n",
       "      <td>Serious</td>\n",
       "      <td>26-08-2019</td>\n",
       "      <td>51.517715</td>\n",
       "      <td>Darkness - lighting unknown</td>\n",
       "      <td>Kensington and Chelsea</td>\n",
       "      <td>-0.210215</td>\n",
       "      <td>1</td>\n",
       "      <td>3</td>\n",
       "      <td>Dry</td>\n",
       "      <td>NaN</td>\n",
       "      <td>Urban</td>\n",
       "      <td>NaN</td>\n",
       "      <td>Taxi/Private hire car</td>\n",
       "    </tr>\n",
       "    <tr>\n",
       "      <th>3</th>\n",
       "      <td>200701BS66128</td>\n",
       "      <td>Serious</td>\n",
       "      <td>16-08-2019</td>\n",
       "      <td>51.495478</td>\n",
       "      <td>Daylight</td>\n",
       "      <td>Kensington and Chelsea</td>\n",
       "      <td>-0.202731</td>\n",
       "      <td>1</td>\n",
       "      <td>4</td>\n",
       "      <td>Dry</td>\n",
       "      <td>Single carriageway</td>\n",
       "      <td>Urban</td>\n",
       "      <td>Fine no high winds</td>\n",
       "      <td>Bus or coach (17 or more pass seats)</td>\n",
       "    </tr>\n",
       "    <tr>\n",
       "      <th>4</th>\n",
       "      <td>200701BS66837</td>\n",
       "      <td>Slight</td>\n",
       "      <td>3/9/2019</td>\n",
       "      <td>51.488576</td>\n",
       "      <td>Darkness - lights lit</td>\n",
       "      <td>Kensington and Chelsea</td>\n",
       "      <td>-0.192487</td>\n",
       "      <td>1</td>\n",
       "      <td>2</td>\n",
       "      <td>Dry</td>\n",
       "      <td>NaN</td>\n",
       "      <td>Urban</td>\n",
       "      <td>NaN</td>\n",
       "      <td>Other vehicle</td>\n",
       "    </tr>\n",
       "    <tr>\n",
       "      <th>...</th>\n",
       "      <td>...</td>\n",
       "      <td>...</td>\n",
       "      <td>...</td>\n",
       "      <td>...</td>\n",
       "      <td>...</td>\n",
       "      <td>...</td>\n",
       "      <td>...</td>\n",
       "      <td>...</td>\n",
       "      <td>...</td>\n",
       "      <td>...</td>\n",
       "      <td>...</td>\n",
       "      <td>...</td>\n",
       "      <td>...</td>\n",
       "      <td>...</td>\n",
       "    </tr>\n",
       "    <tr>\n",
       "      <th>660674</th>\n",
       "      <td>201091NM01760</td>\n",
       "      <td>Slight</td>\n",
       "      <td>18-02-2022</td>\n",
       "      <td>57.374005</td>\n",
       "      <td>Daylight</td>\n",
       "      <td>Highland</td>\n",
       "      <td>-3.467828</td>\n",
       "      <td>2</td>\n",
       "      <td>1</td>\n",
       "      <td>Dry</td>\n",
       "      <td>Single carriageway</td>\n",
       "      <td>Rural</td>\n",
       "      <td>Fine no high winds</td>\n",
       "      <td>Car</td>\n",
       "    </tr>\n",
       "    <tr>\n",
       "      <th>660675</th>\n",
       "      <td>201091NM01881</td>\n",
       "      <td>Slight</td>\n",
       "      <td>21-02-2022</td>\n",
       "      <td>57.232273</td>\n",
       "      <td>Darkness - no lighting</td>\n",
       "      <td>Highland</td>\n",
       "      <td>-3.809281</td>\n",
       "      <td>1</td>\n",
       "      <td>1</td>\n",
       "      <td>Frost or ice</td>\n",
       "      <td>Single carriageway</td>\n",
       "      <td>Rural</td>\n",
       "      <td>Fine no high winds</td>\n",
       "      <td>Car</td>\n",
       "    </tr>\n",
       "    <tr>\n",
       "      <th>660676</th>\n",
       "      <td>201091NM01935</td>\n",
       "      <td>Slight</td>\n",
       "      <td>23-02-2022</td>\n",
       "      <td>57.585044</td>\n",
       "      <td>Daylight</td>\n",
       "      <td>Highland</td>\n",
       "      <td>-3.862727</td>\n",
       "      <td>1</td>\n",
       "      <td>3</td>\n",
       "      <td>Frost or ice</td>\n",
       "      <td>Single carriageway</td>\n",
       "      <td>Rural</td>\n",
       "      <td>Fine no high winds</td>\n",
       "      <td>Car</td>\n",
       "    </tr>\n",
       "    <tr>\n",
       "      <th>660677</th>\n",
       "      <td>201091NM01964</td>\n",
       "      <td>Serious</td>\n",
       "      <td>23-02-2022</td>\n",
       "      <td>57.214898</td>\n",
       "      <td>Darkness - no lighting</td>\n",
       "      <td>Highland</td>\n",
       "      <td>-3.823997</td>\n",
       "      <td>1</td>\n",
       "      <td>2</td>\n",
       "      <td>Wet or damp</td>\n",
       "      <td>Single carriageway</td>\n",
       "      <td>Rural</td>\n",
       "      <td>Fine no high winds</td>\n",
       "      <td>Motorcycle over 500cc</td>\n",
       "    </tr>\n",
       "    <tr>\n",
       "      <th>660678</th>\n",
       "      <td>201091NM02142</td>\n",
       "      <td>Serious</td>\n",
       "      <td>28-02-2022</td>\n",
       "      <td>57.575210</td>\n",
       "      <td>Daylight</td>\n",
       "      <td>Highland</td>\n",
       "      <td>-3.895673</td>\n",
       "      <td>1</td>\n",
       "      <td>1</td>\n",
       "      <td>Wet or damp</td>\n",
       "      <td>Dual carriageway</td>\n",
       "      <td>Rural</td>\n",
       "      <td>Snowing no high winds</td>\n",
       "      <td>Car</td>\n",
       "    </tr>\n",
       "  </tbody>\n",
       "</table>\n",
       "<p>660679 rows × 14 columns</p>\n",
       "</div>"
      ],
      "text/plain": [
       "                Index Accident_Severity Accident Date   Latitude  \\\n",
       "0       200701BS64157           Serious      5/6/2019  51.506187   \n",
       "1       200701BS65737           Serious      2/7/2019  51.495029   \n",
       "2       200701BS66127           Serious    26-08-2019  51.517715   \n",
       "3       200701BS66128           Serious    16-08-2019  51.495478   \n",
       "4       200701BS66837            Slight      3/9/2019  51.488576   \n",
       "...               ...               ...           ...        ...   \n",
       "660674  201091NM01760            Slight    18-02-2022  57.374005   \n",
       "660675  201091NM01881            Slight    21-02-2022  57.232273   \n",
       "660676  201091NM01935            Slight    23-02-2022  57.585044   \n",
       "660677  201091NM01964           Serious    23-02-2022  57.214898   \n",
       "660678  201091NM02142           Serious    28-02-2022  57.575210   \n",
       "\n",
       "                   Light_Conditions           District Area  Longitude  \\\n",
       "0             Darkness - lights lit  Kensington and Chelsea  -0.209082   \n",
       "1                          Daylight  Kensington and Chelsea  -0.173647   \n",
       "2       Darkness - lighting unknown  Kensington and Chelsea  -0.210215   \n",
       "3                          Daylight  Kensington and Chelsea  -0.202731   \n",
       "4             Darkness - lights lit  Kensington and Chelsea  -0.192487   \n",
       "...                             ...                     ...        ...   \n",
       "660674                     Daylight                Highland  -3.467828   \n",
       "660675       Darkness - no lighting                Highland  -3.809281   \n",
       "660676                     Daylight                Highland  -3.862727   \n",
       "660677       Darkness - no lighting                Highland  -3.823997   \n",
       "660678                     Daylight                Highland  -3.895673   \n",
       "\n",
       "        Number_of_Casualties  Number_of_Vehicles Road_Surface_Conditions  \\\n",
       "0                          1                   2                     Dry   \n",
       "1                          1                   2             Wet or damp   \n",
       "2                          1                   3                     Dry   \n",
       "3                          1                   4                     Dry   \n",
       "4                          1                   2                     Dry   \n",
       "...                      ...                 ...                     ...   \n",
       "660674                     2                   1                     Dry   \n",
       "660675                     1                   1            Frost or ice   \n",
       "660676                     1                   3            Frost or ice   \n",
       "660677                     1                   2             Wet or damp   \n",
       "660678                     1                   1             Wet or damp   \n",
       "\n",
       "                 Road_Type Urban_or_Rural_Area     Weather_Conditions  \\\n",
       "0       Single carriageway               Urban     Fine no high winds   \n",
       "1       Single carriageway               Urban  Raining no high winds   \n",
       "2                      NaN               Urban                    NaN   \n",
       "3       Single carriageway               Urban     Fine no high winds   \n",
       "4                      NaN               Urban                    NaN   \n",
       "...                    ...                 ...                    ...   \n",
       "660674  Single carriageway               Rural     Fine no high winds   \n",
       "660675  Single carriageway               Rural     Fine no high winds   \n",
       "660676  Single carriageway               Rural     Fine no high winds   \n",
       "660677  Single carriageway               Rural     Fine no high winds   \n",
       "660678    Dual carriageway               Rural  Snowing no high winds   \n",
       "\n",
       "                                Vehicle_Type  \n",
       "0                                        Car  \n",
       "1                                        Car  \n",
       "2                      Taxi/Private hire car  \n",
       "3       Bus or coach (17 or more pass seats)  \n",
       "4                              Other vehicle  \n",
       "...                                      ...  \n",
       "660674                                   Car  \n",
       "660675                                   Car  \n",
       "660676                                   Car  \n",
       "660677                 Motorcycle over 500cc  \n",
       "660678                                   Car  \n",
       "\n",
       "[660679 rows x 14 columns]"
      ]
     },
     "execution_count": 3,
     "metadata": {},
     "output_type": "execute_result"
    }
   ],
   "source": [
    "accidents"
   ]
  },
  {
   "cell_type": "code",
   "execution_count": 4,
   "id": "fce649fb-1e52-46ea-9dad-c245a1eeec8d",
   "metadata": {},
   "outputs": [
    {
     "data": {
      "text/html": [
       "<div>\n",
       "<style scoped>\n",
       "    .dataframe tbody tr th:only-of-type {\n",
       "        vertical-align: middle;\n",
       "    }\n",
       "\n",
       "    .dataframe tbody tr th {\n",
       "        vertical-align: top;\n",
       "    }\n",
       "\n",
       "    .dataframe thead th {\n",
       "        text-align: right;\n",
       "    }\n",
       "</style>\n",
       "<table border=\"1\" class=\"dataframe\">\n",
       "  <thead>\n",
       "    <tr style=\"text-align: right;\">\n",
       "      <th></th>\n",
       "      <th>Latitude</th>\n",
       "      <th>Longitude</th>\n",
       "      <th>Number_of_Casualties</th>\n",
       "      <th>Number_of_Vehicles</th>\n",
       "    </tr>\n",
       "  </thead>\n",
       "  <tbody>\n",
       "    <tr>\n",
       "      <th>count</th>\n",
       "      <td>660654.000000</td>\n",
       "      <td>660653.000000</td>\n",
       "      <td>660679.000000</td>\n",
       "      <td>660679.000000</td>\n",
       "    </tr>\n",
       "    <tr>\n",
       "      <th>mean</th>\n",
       "      <td>52.553866</td>\n",
       "      <td>-1.431210</td>\n",
       "      <td>1.357040</td>\n",
       "      <td>1.831255</td>\n",
       "    </tr>\n",
       "    <tr>\n",
       "      <th>std</th>\n",
       "      <td>1.406922</td>\n",
       "      <td>1.383330</td>\n",
       "      <td>0.824847</td>\n",
       "      <td>0.715269</td>\n",
       "    </tr>\n",
       "    <tr>\n",
       "      <th>min</th>\n",
       "      <td>49.914430</td>\n",
       "      <td>-7.516225</td>\n",
       "      <td>1.000000</td>\n",
       "      <td>1.000000</td>\n",
       "    </tr>\n",
       "    <tr>\n",
       "      <th>25%</th>\n",
       "      <td>51.490690</td>\n",
       "      <td>-2.332291</td>\n",
       "      <td>1.000000</td>\n",
       "      <td>1.000000</td>\n",
       "    </tr>\n",
       "    <tr>\n",
       "      <th>50%</th>\n",
       "      <td>52.315641</td>\n",
       "      <td>-1.411667</td>\n",
       "      <td>1.000000</td>\n",
       "      <td>2.000000</td>\n",
       "    </tr>\n",
       "    <tr>\n",
       "      <th>75%</th>\n",
       "      <td>53.453452</td>\n",
       "      <td>-0.232869</td>\n",
       "      <td>1.000000</td>\n",
       "      <td>2.000000</td>\n",
       "    </tr>\n",
       "    <tr>\n",
       "      <th>max</th>\n",
       "      <td>60.757544</td>\n",
       "      <td>1.762010</td>\n",
       "      <td>68.000000</td>\n",
       "      <td>32.000000</td>\n",
       "    </tr>\n",
       "  </tbody>\n",
       "</table>\n",
       "</div>"
      ],
      "text/plain": [
       "            Latitude      Longitude  Number_of_Casualties  Number_of_Vehicles\n",
       "count  660654.000000  660653.000000         660679.000000       660679.000000\n",
       "mean       52.553866      -1.431210              1.357040            1.831255\n",
       "std         1.406922       1.383330              0.824847            0.715269\n",
       "min        49.914430      -7.516225              1.000000            1.000000\n",
       "25%        51.490690      -2.332291              1.000000            1.000000\n",
       "50%        52.315641      -1.411667              1.000000            2.000000\n",
       "75%        53.453452      -0.232869              1.000000            2.000000\n",
       "max        60.757544       1.762010             68.000000           32.000000"
      ]
     },
     "execution_count": 4,
     "metadata": {},
     "output_type": "execute_result"
    }
   ],
   "source": [
    "accidents.describe()"
   ]
  },
  {
   "cell_type": "code",
   "execution_count": 5,
   "id": "f333cc51-fe51-437c-b524-3a050e42d5a3",
   "metadata": {},
   "outputs": [
    {
     "name": "stdout",
     "output_type": "stream",
     "text": [
      "<class 'pandas.core.frame.DataFrame'>\n",
      "RangeIndex: 660679 entries, 0 to 660678\n",
      "Data columns (total 14 columns):\n",
      " #   Column                   Non-Null Count   Dtype  \n",
      "---  ------                   --------------   -----  \n",
      " 0   Index                    660679 non-null  object \n",
      " 1   Accident_Severity        660679 non-null  object \n",
      " 2   Accident Date            660679 non-null  object \n",
      " 3   Latitude                 660654 non-null  float64\n",
      " 4   Light_Conditions         660679 non-null  object \n",
      " 5   District Area            660679 non-null  object \n",
      " 6   Longitude                660653 non-null  float64\n",
      " 7   Number_of_Casualties     660679 non-null  int64  \n",
      " 8   Number_of_Vehicles       660679 non-null  int64  \n",
      " 9   Road_Surface_Conditions  659953 non-null  object \n",
      " 10  Road_Type                656159 non-null  object \n",
      " 11  Urban_or_Rural_Area      660664 non-null  object \n",
      " 12  Weather_Conditions       646551 non-null  object \n",
      " 13  Vehicle_Type             660679 non-null  object \n",
      "dtypes: float64(2), int64(2), object(10)\n",
      "memory usage: 70.6+ MB\n"
     ]
    }
   ],
   "source": [
    "accidents.info()"
   ]
  },
  {
   "cell_type": "markdown",
   "id": "59ccc12f-1aa5-483c-86c7-81578377be69",
   "metadata": {},
   "source": [
    "<h2>FILLING UP NULL VALUES</h2>"
   ]
  },
  {
   "cell_type": "code",
   "execution_count": 6,
   "id": "9a020158-04d6-4365-b61c-8b3c55feed0c",
   "metadata": {},
   "outputs": [
    {
     "data": {
      "text/plain": [
       "Index                          0\n",
       "Accident_Severity              0\n",
       "Accident Date                  0\n",
       "Latitude                      25\n",
       "Light_Conditions               0\n",
       "District Area                  0\n",
       "Longitude                     26\n",
       "Number_of_Casualties           0\n",
       "Number_of_Vehicles             0\n",
       "Road_Surface_Conditions      726\n",
       "Road_Type                   4520\n",
       "Urban_or_Rural_Area           15\n",
       "Weather_Conditions         14128\n",
       "Vehicle_Type                   0\n",
       "dtype: int64"
      ]
     },
     "execution_count": 6,
     "metadata": {},
     "output_type": "execute_result"
    }
   ],
   "source": [
    "accidents.isnull().sum()"
   ]
  },
  {
   "cell_type": "code",
   "execution_count": 7,
   "id": "425e08bb-9eb0-4eb8-b869-806238a352fa",
   "metadata": {},
   "outputs": [
    {
     "data": {
      "text/plain": [
       "Index                      0\n",
       "Accident_Severity          0\n",
       "Accident Date              0\n",
       "Latitude                   0\n",
       "Light_Conditions           0\n",
       "District Area              0\n",
       "Longitude                  0\n",
       "Number_of_Casualties       0\n",
       "Number_of_Vehicles         0\n",
       "Road_Surface_Conditions    0\n",
       "Road_Type                  0\n",
       "Urban_or_Rural_Area        0\n",
       "Weather_Conditions         0\n",
       "Vehicle_Type               0\n",
       "dtype: int64"
      ]
     },
     "execution_count": 7,
     "metadata": {},
     "output_type": "execute_result"
    }
   ],
   "source": [
    "accidents['Latitude'] = accidents['Latitude'].fillna(accidents['Latitude'].mean())\n",
    "accidents['Longitude'] = accidents['Longitude'].fillna(accidents['Longitude'].mean())\n",
    "accidents['Road_Surface_Conditions'] = accidents['Road_Surface_Conditions'].fillna(accidents['Road_Surface_Conditions'].mode()[0])\n",
    "accidents['Road_Type'] = accidents['Road_Type'].fillna(accidents['Road_Type'].mode()[0])\n",
    "accidents['Urban_or_Rural_Area'] = accidents['Urban_or_Rural_Area'].fillna(accidents['Urban_or_Rural_Area'].mode()[0])\n",
    "accidents['Weather_Conditions'] = accidents['Weather_Conditions'].fillna(accidents['Weather_Conditions'].mode()[0])\n",
    "\n",
    "accidents.isnull().sum()"
   ]
  },
  {
   "cell_type": "markdown",
   "id": "2e48f99f-63a6-4dbf-81a1-abe29bf6052e",
   "metadata": {},
   "source": [
    "<h2>CHANGING THE DATA TYPE</h2>"
   ]
  },
  {
   "cell_type": "code",
   "execution_count": 8,
   "id": "4fe7e9a0-bf49-4605-89d2-b342ae98a20d",
   "metadata": {},
   "outputs": [
    {
     "name": "stdout",
     "output_type": "stream",
     "text": [
      "<class 'pandas.core.frame.DataFrame'>\n",
      "RangeIndex: 660679 entries, 0 to 660678\n",
      "Data columns (total 14 columns):\n",
      " #   Column                   Non-Null Count   Dtype   \n",
      "---  ------                   --------------   -----   \n",
      " 0   Index                    660679 non-null  object  \n",
      " 1   Accident_Severity        660679 non-null  category\n",
      " 2   Accident Date            660679 non-null  object  \n",
      " 3   Latitude                 660679 non-null  float64 \n",
      " 4   Light_Conditions         660679 non-null  category\n",
      " 5   District Area            660679 non-null  category\n",
      " 6   Longitude                660679 non-null  float64 \n",
      " 7   Number_of_Casualties     660679 non-null  int64   \n",
      " 8   Number_of_Vehicles       660679 non-null  int64   \n",
      " 9   Road_Surface_Conditions  660679 non-null  category\n",
      " 10  Road_Type                660679 non-null  category\n",
      " 11  Urban_or_Rural_Area      660679 non-null  category\n",
      " 12  Weather_Conditions       660679 non-null  category\n",
      " 13  Vehicle_Type             660679 non-null  category\n",
      "dtypes: category(8), float64(2), int64(2), object(2)\n",
      "memory usage: 35.9+ MB\n"
     ]
    }
   ],
   "source": [
    "accidents['Accident_Severity'] = accidents['Accident_Severity'].astype('category')\n",
    "accidents['Light_Conditions'] = accidents['Light_Conditions'].astype('category')\n",
    "accidents['District Area'] = accidents['District Area'].astype('category')\n",
    "accidents['Road_Surface_Conditions'] = accidents['Road_Surface_Conditions'].astype('category')\n",
    "accidents['Road_Type'] = accidents['Road_Type'].astype('category')\n",
    "accidents['Urban_or_Rural_Area'] = accidents['Urban_or_Rural_Area'].astype('category')\n",
    "accidents['Weather_Conditions'] = accidents['Weather_Conditions'].astype('category')\n",
    "accidents['Vehicle_Type'] = accidents['Vehicle_Type'].astype('category')\n",
    "\n",
    "accidents.info()"
   ]
  },
  {
   "cell_type": "code",
   "execution_count": 9,
   "id": "867e745a-36eb-483c-bab1-21f06db14386",
   "metadata": {},
   "outputs": [
    {
     "data": {
      "text/plain": [
       "Index(['Index', 'Accident_Severity', 'Accident Date', 'Latitude',\n",
       "       'Light_Conditions', 'District Area', 'Longitude',\n",
       "       'Number_of_Casualties', 'Number_of_Vehicles', 'Road_Surface_Conditions',\n",
       "       'Road_Type', 'Urban_or_Rural_Area', 'Weather_Conditions',\n",
       "       'Vehicle_Type'],\n",
       "      dtype='object')"
      ]
     },
     "execution_count": 9,
     "metadata": {},
     "output_type": "execute_result"
    }
   ],
   "source": [
    "accidents.columns"
   ]
  },
  {
   "cell_type": "markdown",
   "id": "461d2b6b-abfb-4eb4-8e1f-f5b7209ac360",
   "metadata": {},
   "source": [
    "<h1> EXPLANATORY DATA ANALYSIS (EDA)</h1>\n",
    "<hr>\n",
    "<h2>Question 1 </h2>\n",
    "<h3>What is the distribution of accident severity?</h3>"
   ]
  },
  {
   "cell_type": "code",
   "execution_count": 10,
   "id": "47f462a2-592f-4024-8f42-24acc1d941e8",
   "metadata": {},
   "outputs": [],
   "source": [
    "severity_counts = accidents['Accident_Severity'].value_counts()"
   ]
  },
  {
   "cell_type": "code",
   "execution_count": 11,
   "id": "f7fa8cdf-294d-4c0e-b68c-11a8904b8b23",
   "metadata": {},
   "outputs": [
    {
     "data": {
      "text/plain": [
       "Accident_Severity\n",
       "Slight     563801\n",
       "Serious     88217\n",
       "Fatal        8661\n",
       "Name: count, dtype: int64"
      ]
     },
     "execution_count": 11,
     "metadata": {},
     "output_type": "execute_result"
    }
   ],
   "source": [
    "severity_counts"
   ]
  },
  {
   "cell_type": "markdown",
   "id": "0b9576bc-ba2a-4dd3-930b-e09811e47b38",
   "metadata": {},
   "source": [
    "<h4>Insight : The majority of recorded accidents are classified as Slight, meaning that most of them cause only minimal damage or injuries. However, the presence of Serious and Fatal cases, though fewer it's importan to take action to make roads safer.</h4>"
   ]
  },
  {
   "cell_type": "markdown",
   "id": "1f153729-dfd6-4b20-b415-4ae3e1b98b1e",
   "metadata": {},
   "source": [
    "<hr>\n",
    "<h2>Question 2 </h2>\n",
    "<h3>Which road type has the highest proportion of fatal accidents?</h3>"
   ]
  },
  {
   "cell_type": "code",
   "execution_count": 12,
   "id": "7c7f8fe1-2c36-4875-b8b1-edd8e7fb8a6f",
   "metadata": {},
   "outputs": [
    {
     "data": {
      "text/plain": [
       "Road_Type\n",
       "Single carriageway    6560\n",
       "Dual carriageway      1815\n",
       "Roundabout             142\n",
       "One way street          95\n",
       "Slip road               49\n",
       "Name: count, dtype: int64"
      ]
     },
     "execution_count": 12,
     "metadata": {},
     "output_type": "execute_result"
    }
   ],
   "source": [
    "accidents[accidents['Accident_Severity'] == 'Fatal']['Road_Type'].value_counts()"
   ]
  },
  {
   "cell_type": "markdown",
   "id": "2fbf8f27-395e-4442-9f8c-8dc775052746",
   "metadata": {},
   "source": [
    "<h4>Insights : Most fatal accidents happen on single carriageways, making up the largest propotion. This could be because they often lack barriers between lanes, so head-on collisions are more likely.</h4>"
   ]
  },
  {
   "cell_type": "markdown",
   "id": "34856996-89ab-4c9a-88c3-fee02c471d6b",
   "metadata": {},
   "source": [
    "<hr>\n",
    "<h2>Question 3</h2>\n",
    "<h3>Do accidents involving motorcycles tend to result in more casualties than those involving cars?</h3>\n"
   ]
  },
  {
   "cell_type": "code",
   "execution_count": 13,
   "id": "0186b1f9-01b1-40d9-abdd-715c5ab2cf6b",
   "metadata": {},
   "outputs": [
    {
     "data": {
      "text/plain": [
       "0                                          Car\n",
       "1                                          Car\n",
       "2                        Taxi/Private hire car\n",
       "3         Bus or coach (17 or more pass seats)\n",
       "4                                Other vehicle\n",
       "                          ...                 \n",
       "660674                                     Car\n",
       "660675                                     Car\n",
       "660676                                     Car\n",
       "660677                   Motorcycle over 500cc\n",
       "660678                                     Car\n",
       "Name: Vehicle_Type, Length: 660679, dtype: category\n",
       "Categories (16, object): ['Agricultural vehicle', 'Bus or coach (17 or more pass seats)', 'Car', 'Data missing or out of range', ..., 'Pedal cycle', 'Ridden horse', 'Taxi/Private hire car', 'Van / Goods 3.5 tonnes mgw or under']"
      ]
     },
     "execution_count": 13,
     "metadata": {},
     "output_type": "execute_result"
    }
   ],
   "source": [
    "accidents['Vehicle_Type']"
   ]
  },
  {
   "cell_type": "code",
   "execution_count": 14,
   "id": "eb406113-dc2c-4808-843b-1bf8c2290288",
   "metadata": {},
   "outputs": [],
   "source": [
    "motorcycle = accidents[accidents['Vehicle_Type'] == 'Motorcycle over 500cc']\n",
    "car= accidents[accidents['Vehicle_Type'] == 'Taxi/Private hire car']\n",
    "\n",
    "motorcycle_avg = motorcycle['Number_of_Casualties'].mean()\n",
    "car_avg = car['Number_of_Casualties'].mean()"
   ]
  },
  {
   "cell_type": "code",
   "execution_count": 15,
   "id": "18b14856-509c-4d33-a87f-2ab26abd96f8",
   "metadata": {},
   "outputs": [
    {
     "data": {
      "text/plain": [
       "np.float64(1.3594340725727871)"
      ]
     },
     "execution_count": 15,
     "metadata": {},
     "output_type": "execute_result"
    }
   ],
   "source": [
    "motorcycle_avg"
   ]
  },
  {
   "cell_type": "code",
   "execution_count": 16,
   "id": "efb0c16d-fa36-47ec-b843-dcb9f1d6703a",
   "metadata": {},
   "outputs": [
    {
     "data": {
      "text/plain": [
       "np.float64(1.3686625545358808)"
      ]
     },
     "execution_count": 16,
     "metadata": {},
     "output_type": "execute_result"
    }
   ],
   "source": [
    "car_avg"
   ]
  },
  {
   "cell_type": "markdown",
   "id": "9f29f566-641b-47a3-8491-9be5d2b5fb76",
   "metadata": {},
   "source": [
    "<h4>Insight : On average, accidents involving taxi/private hire cars result in slightly more casualties than those involving motorcycles, suggesting that while motorcycles are riskier for the rider, car accidents often impact more people.</h4>"
   ]
  },
  {
   "cell_type": "markdown",
   "id": "5556e96f-83e3-419f-b8b8-5e520d72d1db",
   "metadata": {},
   "source": [
    "<hr>\n",
    "<h2>Question 4</h2>\n",
    "<h3>How do light conditions influence the severity of accidents?</h3>\n"
   ]
  },
  {
   "cell_type": "code",
   "execution_count": 17,
   "id": "f8dd4066-1e26-47e2-a267-19c5b4c335bb",
   "metadata": {},
   "outputs": [
    {
     "data": {
      "text/plain": [
       "Light_Conditions             Accident_Severity\n",
       "Darkness - lighting unknown  Fatal                    68\n",
       "                             Serious                 794\n",
       "                             Slight                 5622\n",
       "Darkness - lights lit        Fatal                  1860\n",
       "                             Serious               19130\n",
       "                             Slight               108345\n",
       "Darkness - lights unlit      Fatal                    45\n",
       "                             Serious                 360\n",
       "                             Slight                 2138\n",
       "Darkness - no lighting       Fatal                  1612\n",
       "                             Serious                7174\n",
       "                             Slight                28651\n",
       "Daylight                     Fatal                  5076\n",
       "                             Serious               60759\n",
       "                             Slight               419045\n",
       "dtype: int64"
      ]
     },
     "execution_count": 17,
     "metadata": {},
     "output_type": "execute_result"
    }
   ],
   "source": [
    "severity_by_light = (accidents.groupby(['Light_Conditions', 'Accident_Severity']).size())\n",
    "\n",
    "severity_by_light "
   ]
  },
  {
   "cell_type": "markdown",
   "id": "7e1abd8f-71ea-4230-b1e3-e229de4aafa9",
   "metadata": {},
   "source": [
    "<h4>Insights : Accident severity is often higher in darkness than in daylight, with significantly more fatal and serious wrecks happening where street lighting is absent or unlit. Emphasizing the need of appropriate lighting in lowering accident severity.</h4>"
   ]
  },
  {
   "cell_type": "markdown",
   "id": "d39b18a4-36fc-430d-8d2d-eb56d345a571",
   "metadata": {},
   "source": [
    "<hr>\n",
    "<h2>Question 5</h2>\n",
    "<h3>In the Highland district, which type of vehicle is most likely to be involved in accidents under fine no high winds conditions?</h3>\n"
   ]
  },
  {
   "cell_type": "code",
   "execution_count": 18,
   "id": "ff6bf9f1-e47c-420d-9efb-dc3fecf9393f",
   "metadata": {},
   "outputs": [
    {
     "data": {
      "text/plain": [
       "Vehicle_Type\n",
       "Car                                      998\n",
       "Van / Goods 3.5 tonnes mgw or under       92\n",
       "Bus or coach (17 or more pass seats)      50\n",
       "Goods 7.5 tonnes mgw and over             42\n",
       "Taxi/Private hire car                     25\n",
       "Motorcycle over 500cc                     24\n",
       "Motorcycle 125cc and under                22\n",
       "Goods over 3.5t. and under 7.5t           15\n",
       "Motorcycle over 125cc and up to 500cc     15\n",
       "Motorcycle 50cc and under                  9\n",
       "Minibus (8 - 16 passenger seats)           8\n",
       "Other vehicle                              8\n",
       "Agricultural vehicle                       4\n",
       "Pedal cycle                                1\n",
       "Data missing or out of range               0\n",
       "Ridden horse                               0\n",
       "Name: count, dtype: int64"
      ]
     },
     "execution_count": 18,
     "metadata": {},
     "output_type": "execute_result"
    }
   ],
   "source": [
    "highland = accidents[(accidents['District Area'] == 'Highland') &(accidents['Weather_Conditions'] == 'Fine no high winds')]\n",
    "vehicle_counts = highland['Vehicle_Type'].value_counts()\n",
    "\n",
    "vehicle_counts"
   ]
  },
  {
   "cell_type": "markdown",
   "id": "2631b94c-ae2e-4cba-ae8d-e6958fa9bc00",
   "metadata": {},
   "source": [
    "<h4>Insights : In the Highland district, under fine weather with no high winds, cars represent the predominant vehicle type involved in accidents. Accounting for the vast majority compared to all other vehicle types.</h4>"
   ]
  },
  {
   "cell_type": "markdown",
   "id": "bfc6658c-e183-48d2-9db1-92b20a4d7360",
   "metadata": {},
   "source": [
    "<hr>\n",
    "<h2>Question 6</h2>\n",
    "<h3>Is there a statistically significant difference in accident severity between urban and rural areas?</h3>"
   ]
  },
  {
   "cell_type": "code",
   "execution_count": 19,
   "id": "447bfeb0-d5e8-4e59-9350-630b873e58fa",
   "metadata": {},
   "outputs": [
    {
     "data": {
      "text/plain": [
       "Urban_or_Rural_Area  Accident_Severity\n",
       "Rural                Fatal                  5601\n",
       "                     Serious               37312\n",
       "                     Slight               196077\n",
       "Unallocated          Fatal                     0\n",
       "                     Serious                   1\n",
       "                     Slight                   10\n",
       "Urban                Fatal                  3060\n",
       "                     Serious               50904\n",
       "                     Slight               367714\n",
       "dtype: int64"
      ]
     },
     "execution_count": 19,
     "metadata": {},
     "output_type": "execute_result"
    }
   ],
   "source": [
    "severity_by_area = (accidents.groupby(['Urban_or_Rural_Area', 'Accident_Severity']).size())\n",
    "\n",
    "severity_by_area"
   ]
  },
  {
   "cell_type": "markdown",
   "id": "28698d25-b4d5-461a-a69b-787290e6c407",
   "metadata": {},
   "source": [
    "<h4>Insights : Accidents in rural areas are more likely to result in fatalities compared to urban areas. While urban areas record a higher proportion of slight and serious accidents, suggesting differing risk between the two areas.</h4>"
   ]
  },
  {
   "cell_type": "markdown",
   "id": "3d08ca5f-3c01-422a-85bb-58cbcfaf6e16",
   "metadata": {},
   "source": [
    "<hr>\n",
    "<h2>Question 7</h2>\n",
    "<h3>Which road types are associated with higher average casualties?</h3>"
   ]
  },
  {
   "cell_type": "code",
   "execution_count": 20,
   "id": "1826b519-3b1b-4177-81ec-faeaea479746",
   "metadata": {},
   "outputs": [
    {
     "data": {
      "text/plain": [
       "Road_Type\n",
       "Dual carriageway      1.477279\n",
       "One way street        1.192713\n",
       "Roundabout            1.274891\n",
       "Single carriageway    1.343788\n",
       "Slip road             1.423661\n",
       "Name: Number_of_Casualties, dtype: float64"
      ]
     },
     "execution_count": 20,
     "metadata": {},
     "output_type": "execute_result"
    }
   ],
   "source": [
    "accidents.groupby('Road_Type')['Number_of_Casualties'].mean()"
   ]
  },
  {
   "cell_type": "markdown",
   "id": "a482fb10-e79b-4e8e-82be-b4ca0e31bced",
   "metadata": {},
   "source": [
    "<h4>Insights : Dual carriageways and slip roads had the greatest average casualty rates per incidents, which suggests that situations with higher speeds or merging may be more dangerous.</h4>"
   ]
  },
  {
   "cell_type": "markdown",
   "id": "20c208da-6528-4b14-9191-e18070b7a84d",
   "metadata": {},
   "source": [
    "<hr>\n",
    "<h2>Question 8</h2>\n",
    "<h3>Which 5 districts report the highest average number of casualties per accident?</h3>\n"
   ]
  },
  {
   "cell_type": "code",
   "execution_count": 21,
   "id": "3df3f67d-aee8-4450-b689-4af1ab3169fe",
   "metadata": {},
   "outputs": [
    {
     "data": {
      "text/plain": [
       "District Area\n",
       "Aberdeen City    1.139834\n",
       "Aberdeenshire    1.310363\n",
       "Adur             1.319871\n",
       "Allerdale        1.474291\n",
       "Alnwick          1.512931\n",
       "Name: Number_of_Casualties, dtype: float64"
      ]
     },
     "execution_count": 21,
     "metadata": {},
     "output_type": "execute_result"
    }
   ],
   "source": [
    "avg_casualties = accidents.groupby('District Area')['Number_of_Casualties'].mean().head(5)\n",
    "\n",
    "avg_casualties"
   ]
  },
  {
   "cell_type": "markdown",
   "id": "94301887-2688-4928-bf64-58aa72205162",
   "metadata": {},
   "source": [
    "<h4>Insights : Alnwick and Allerdale district reported the highest average casualties per accident, indicating potentially more severe incidents or riskier road conditions in these areas. Compared to Aberdeen City, which has the lowest average.</h4>"
   ]
  },
  {
   "cell_type": "markdown",
   "id": "9c8d13cf-0cc9-431a-9792-5e18ae7a0db6",
   "metadata": {},
   "source": [
    "<hr>\n",
    "<h2>Question 9</h2>\n",
    "<h3>What three districts have a higher likelihood of severe accidents involving several vehicles?</h3>"
   ]
  },
  {
   "cell_type": "code",
   "execution_count": 22,
   "id": "0f969dbc-66c4-47ed-b58c-244ceef4214a",
   "metadata": {},
   "outputs": [
    {
     "data": {
      "text/html": [
       "<div>\n",
       "<style scoped>\n",
       "    .dataframe tbody tr th:only-of-type {\n",
       "        vertical-align: middle;\n",
       "    }\n",
       "\n",
       "    .dataframe tbody tr th {\n",
       "        vertical-align: top;\n",
       "    }\n",
       "\n",
       "    .dataframe thead th {\n",
       "        text-align: right;\n",
       "    }\n",
       "</style>\n",
       "<table border=\"1\" class=\"dataframe\">\n",
       "  <thead>\n",
       "    <tr style=\"text-align: right;\">\n",
       "      <th></th>\n",
       "      <th>Index</th>\n",
       "      <th>Accident_Severity</th>\n",
       "      <th>Accident Date</th>\n",
       "      <th>Latitude</th>\n",
       "      <th>Light_Conditions</th>\n",
       "      <th>District Area</th>\n",
       "      <th>Longitude</th>\n",
       "      <th>Number_of_Casualties</th>\n",
       "      <th>Number_of_Vehicles</th>\n",
       "      <th>Road_Surface_Conditions</th>\n",
       "      <th>Road_Type</th>\n",
       "      <th>Urban_or_Rural_Area</th>\n",
       "      <th>Weather_Conditions</th>\n",
       "      <th>Vehicle_Type</th>\n",
       "    </tr>\n",
       "  </thead>\n",
       "  <tbody>\n",
       "    <tr>\n",
       "      <th>0</th>\n",
       "      <td>200701BS64157</td>\n",
       "      <td>Serious</td>\n",
       "      <td>5/6/2019</td>\n",
       "      <td>51.506187</td>\n",
       "      <td>Darkness - lights lit</td>\n",
       "      <td>Kensington and Chelsea</td>\n",
       "      <td>-0.209082</td>\n",
       "      <td>1</td>\n",
       "      <td>2</td>\n",
       "      <td>Dry</td>\n",
       "      <td>Single carriageway</td>\n",
       "      <td>Urban</td>\n",
       "      <td>Fine no high winds</td>\n",
       "      <td>Car</td>\n",
       "    </tr>\n",
       "    <tr>\n",
       "      <th>1</th>\n",
       "      <td>200701BS65737</td>\n",
       "      <td>Serious</td>\n",
       "      <td>2/7/2019</td>\n",
       "      <td>51.495029</td>\n",
       "      <td>Daylight</td>\n",
       "      <td>Kensington and Chelsea</td>\n",
       "      <td>-0.173647</td>\n",
       "      <td>1</td>\n",
       "      <td>2</td>\n",
       "      <td>Wet or damp</td>\n",
       "      <td>Single carriageway</td>\n",
       "      <td>Urban</td>\n",
       "      <td>Raining no high winds</td>\n",
       "      <td>Car</td>\n",
       "    </tr>\n",
       "    <tr>\n",
       "      <th>2</th>\n",
       "      <td>200701BS66127</td>\n",
       "      <td>Serious</td>\n",
       "      <td>26-08-2019</td>\n",
       "      <td>51.517715</td>\n",
       "      <td>Darkness - lighting unknown</td>\n",
       "      <td>Kensington and Chelsea</td>\n",
       "      <td>-0.210215</td>\n",
       "      <td>1</td>\n",
       "      <td>3</td>\n",
       "      <td>Dry</td>\n",
       "      <td>Single carriageway</td>\n",
       "      <td>Urban</td>\n",
       "      <td>Fine no high winds</td>\n",
       "      <td>Taxi/Private hire car</td>\n",
       "    </tr>\n",
       "  </tbody>\n",
       "</table>\n",
       "</div>"
      ],
      "text/plain": [
       "           Index Accident_Severity Accident Date   Latitude  \\\n",
       "0  200701BS64157           Serious      5/6/2019  51.506187   \n",
       "1  200701BS65737           Serious      2/7/2019  51.495029   \n",
       "2  200701BS66127           Serious    26-08-2019  51.517715   \n",
       "\n",
       "              Light_Conditions           District Area  Longitude  \\\n",
       "0        Darkness - lights lit  Kensington and Chelsea  -0.209082   \n",
       "1                     Daylight  Kensington and Chelsea  -0.173647   \n",
       "2  Darkness - lighting unknown  Kensington and Chelsea  -0.210215   \n",
       "\n",
       "   Number_of_Casualties  Number_of_Vehicles Road_Surface_Conditions  \\\n",
       "0                     1                   2                     Dry   \n",
       "1                     1                   2             Wet or damp   \n",
       "2                     1                   3                     Dry   \n",
       "\n",
       "            Road_Type Urban_or_Rural_Area     Weather_Conditions  \\\n",
       "0  Single carriageway               Urban     Fine no high winds   \n",
       "1  Single carriageway               Urban  Raining no high winds   \n",
       "2  Single carriageway               Urban     Fine no high winds   \n",
       "\n",
       "            Vehicle_Type  \n",
       "0                    Car  \n",
       "1                    Car  \n",
       "2  Taxi/Private hire car  "
      ]
     },
     "execution_count": 22,
     "metadata": {},
     "output_type": "execute_result"
    }
   ],
   "source": [
    "severe_multi = accidents[((accidents['Accident_Severity'] == 'Serious') | (accidents['Accident_Severity'] == 'Fatal')) &(accidents['Number_of_Vehicles'] > 1)]\n",
    "severe_multi.head(3)"
   ]
  },
  {
   "cell_type": "markdown",
   "id": "3f04ef2f-eae8-4c74-838f-75a4f32d32f6",
   "metadata": {},
   "source": [
    "<h4>Insights : Kensington and Chelsea districts occur frequently in serious accidents involving numerous vehicles, indicating an increased risk of complicated crashes in this urban neighborhood. The combination of lighting conditions and wet or dry surfaces indicates environmental elements that may raise risk, especially on single-lane roads.</h4>"
   ]
  },
  {
   "cell_type": "markdown",
   "id": "1fe3ea6b-7679-462a-84dd-232fecce1a14",
   "metadata": {},
   "source": [
    "<hr>\n",
    "<h2>Question 10</h2>\n",
    "<h3>Are Rural districts more prone to severe accidents than Urban ones?</h3>"
   ]
  },
  {
   "cell_type": "code",
   "execution_count": 23,
   "id": "143b7e08-f8b2-4ab4-8ae1-91370c15971c",
   "metadata": {},
   "outputs": [
    {
     "data": {
      "text/plain": [
       "Urban_or_Rural_Area\n",
       "Urban          421678\n",
       "Rural          238990\n",
       "Unallocated        11\n",
       "Name: count, dtype: int64"
      ]
     },
     "execution_count": 23,
     "metadata": {},
     "output_type": "execute_result"
    }
   ],
   "source": [
    "accidents['Urban_or_Rural_Area'].value_counts()"
   ]
  },
  {
   "cell_type": "markdown",
   "id": "8960be7b-22bf-4464-a59a-6da7c4ff1c50",
   "metadata": {},
   "source": [
    "<h4>Insights : Urban areas report a higher number of total accidents, likely due to greater traffic density and population. However, Rural districts may still be more prone to severe accidents, as factors like higher driving speeds,</h4>"
   ]
  },
  {
   "cell_type": "markdown",
   "id": "67802c85-c769-4f0c-9700-e2ce4fd1b24a",
   "metadata": {},
   "source": [
    "<hr>\n",
    "<h2>Question 11</h2>\n",
    "<h3>Which vehicle types are most frequently involved in accidents in Adur district?</h3>"
   ]
  },
  {
   "cell_type": "code",
   "execution_count": 24,
   "id": "b9bc9047-6cda-4cd6-aa2f-613454827f96",
   "metadata": {},
   "outputs": [
    {
     "data": {
      "text/plain": [
       "Vehicle_Type\n",
       "Car                                      480\n",
       "Bus or coach (17 or more pass seats)      29\n",
       "Van / Goods 3.5 tonnes mgw or under       27\n",
       "Motorcycle over 500cc                     21\n",
       "Motorcycle 125cc and under                14\n",
       "Goods 7.5 tonnes mgw and over             13\n",
       "Motorcycle over 125cc and up to 500cc      9\n",
       "Taxi/Private hire car                      8\n",
       "Motorcycle 50cc and under                  7\n",
       "Goods over 3.5t. and under 7.5t            4\n",
       "Agricultural vehicle                       3\n",
       "Other vehicle                              3\n",
       "Minibus (8 - 16 passenger seats)           1\n",
       "Data missing or out of range               0\n",
       "Ridden horse                               0\n",
       "Pedal cycle                                0\n",
       "Name: count, dtype: int64"
      ]
     },
     "execution_count": 24,
     "metadata": {},
     "output_type": "execute_result"
    }
   ],
   "source": [
    "adur_accidents = accidents[accidents['District Area'] == 'Adur']\n",
    "vehicle_counts = adur_accidents['Vehicle_Type'].value_counts()\n",
    "\n",
    "vehicle_counts"
   ]
  },
  {
   "cell_type": "markdown",
   "id": "a18db8cd-3fb0-4b1e-9c3d-ad827654011f",
   "metadata": {},
   "source": [
    "<h4>Insights : Cars dominate accident involvement in Adur, accounting for the vast majority of incidents. Motorcycles and commercial vehicles follow at much lower frequencies, highlighting cars as the primary focus for local road safety efforts.</h4>"
   ]
  },
  {
   "cell_type": "markdown",
   "id": "f3b0fc30-ccb3-4b55-941e-f5c10b37ba26",
   "metadata": {},
   "source": [
    "<hr>\n",
    "<h2>Question 12</h2>\n",
    "<h3>Which vehicle types are most frequently involved in accidents during adverse weather?</h3>"
   ]
  },
  {
   "cell_type": "code",
   "execution_count": 25,
   "id": "71e7bc52-c13c-419c-ab76-a379da259910",
   "metadata": {},
   "outputs": [
    {
     "data": {
      "text/plain": [
       "Vehicle_Type\n",
       "Car                                      4748\n",
       "Van / Goods 3.5 tonnes mgw or under       296\n",
       "Motorcycle over 500cc                     254\n",
       "Bus or coach (17 or more pass seats)      219\n",
       "Goods 7.5 tonnes mgw and over             149\n",
       "Motorcycle 125cc and under                146\n",
       "Taxi/Private hire car                     136\n",
       "Motorcycle 50cc and under                  75\n",
       "Motorcycle over 125cc and up to 500cc      72\n",
       "Goods over 3.5t. and under 7.5t            52\n",
       "Other vehicle                              50\n",
       "Agricultural vehicle                       22\n",
       "Minibus (8 - 16 passenger seats)           16\n",
       "Pedal cycle                                 3\n",
       "Data missing or out of range                0\n",
       "Ridden horse                                0\n",
       "Name: count, dtype: int64"
      ]
     },
     "execution_count": 25,
     "metadata": {},
     "output_type": "execute_result"
    }
   ],
   "source": [
    "snowing = accidents[accidents['Weather_Conditions'] == 'Snowing no high winds']\n",
    "vehicle_counts = snowing['Vehicle_Type'].value_counts()\n",
    "vehicle_counts"
   ]
  },
  {
   "cell_type": "markdown",
   "id": "70efd59d-d093-46e0-a70a-ff622b08126f",
   "metadata": {},
   "source": [
    "<h4>Insights : Cars are by far the most often involved vehicle type in accidents during inclement weather, demonstrating their dominance on the road. Motorcycles and light cargo vehicles are also heavily involved.</h4>"
   ]
  },
  {
   "cell_type": "markdown",
   "id": "475f5954-58cb-49cd-b834-f3b46b991d30",
   "metadata": {},
   "source": [
    "<hr>\n",
    "<h2>Question 13</h2>\n",
    "<h3>Which district has the highest number of casualties?</h3>"
   ]
  },
  {
   "cell_type": "code",
   "execution_count": 26,
   "id": "dfea4311-0780-4373-98e2-12b481034291",
   "metadata": {},
   "outputs": [
    {
     "data": {
      "text/plain": [
       "District Area\n",
       "Aberdeen City    1508\n",
       "Name: Number_of_Casualties, dtype: int64"
      ]
     },
     "execution_count": 26,
     "metadata": {},
     "output_type": "execute_result"
    }
   ],
   "source": [
    "casualty_totals = accidents.groupby('District Area')['Number_of_Casualties'].sum().head(1)\n",
    "\n",
    "casualty_totals"
   ]
  },
  {
   "cell_type": "markdown",
   "id": "553232ea-6105-4706-8d8b-60fe81be2b8a",
   "metadata": {},
   "source": [
    "<h4>Insights : Aberdeen City records the highest number of 1508 casualties, indicating a concentration of traffic incidents in the area.</h4>"
   ]
  },
  {
   "cell_type": "markdown",
   "id": "49309633-c1fd-496c-b046-05800535ffbd",
   "metadata": {},
   "source": [
    "<hr>\n",
    "<h2>Question 14</h2>\n",
    "<h3>Are certain vehicle types more prone to accidents in rural areas compared to urban zones?</h3>"
   ]
  },
  {
   "cell_type": "code",
   "execution_count": 27,
   "id": "73e21698-cc4d-4cff-b170-cf9e4b52d2d7",
   "metadata": {},
   "outputs": [
    {
     "data": {
      "text/plain": [
       "Vehicle_Type\n",
       "Car                                     181922\n",
       "Van / Goods 3.5 tonnes mgw or under      12156\n",
       "Bus or coach (17 or more pass seats)      9025\n",
       "Motorcycle over 500cc                     8957\n",
       "Goods 7.5 tonnes mgw and over             6156\n",
       "Name: count, dtype: int64"
      ]
     },
     "execution_count": 27,
     "metadata": {},
     "output_type": "execute_result"
    }
   ],
   "source": [
    "rural = accidents[accidents['Urban_or_Rural_Area'] == 'Rural']\n",
    "rural_counts = rural['Vehicle_Type'].value_counts()\n",
    "rural_counts.head()"
   ]
  },
  {
   "cell_type": "code",
   "execution_count": 28,
   "id": "39698f95-5d08-45c2-a2fe-9685767bf467",
   "metadata": {},
   "outputs": [
    {
     "data": {
      "text/plain": [
       "Vehicle_Type\n",
       "Car                                     316062\n",
       "Van / Goods 3.5 tonnes mgw or under      22003\n",
       "Bus or coach (17 or more pass seats)     16851\n",
       "Motorcycle over 500cc                    16700\n",
       "Goods 7.5 tonnes mgw and over            11151\n",
       "Name: count, dtype: int64"
      ]
     },
     "execution_count": 28,
     "metadata": {},
     "output_type": "execute_result"
    }
   ],
   "source": [
    "urban = accidents[accidents['Urban_or_Rural_Area'] == 'Urban']\n",
    "urban_counts = urban['Vehicle_Type'].value_counts()\n",
    "urban_counts.head()"
   ]
  },
  {
   "cell_type": "markdown",
   "id": "37fb28d0-ac0c-4b68-8408-c0e87dfce9d8",
   "metadata": {},
   "source": [
    "<h4>Insights : Cars are the most accident-prone vehicle type in both rural and urban zones, reflecting their dominance on the roads. However, motorcycles and heavy goods vehicles show relatively higher proportions in rural accidents.</h4>"
   ]
  },
  {
   "cell_type": "markdown",
   "id": "d185ec02-50e2-46a9-a43b-d34a1fc10bd8",
   "metadata": {},
   "source": [
    "<hr>\n",
    "<h2>Question 15</h2>\n",
    "<h3>Which districts report the highest casualty rates in rural areas?</h3>"
   ]
  },
  {
   "cell_type": "code",
   "execution_count": 29,
   "id": "868dc317-9dc0-4ab2-9594-fe2fd0a01de3",
   "metadata": {},
   "outputs": [
    {
     "data": {
      "text/plain": [
       "District Area\n",
       "Aberdeen City    247\n",
       "Name: Number_of_Casualties, dtype: int64"
      ]
     },
     "execution_count": 29,
     "metadata": {},
     "output_type": "execute_result"
    }
   ],
   "source": [
    "rural_casualty = accidents[accidents['Urban_or_Rural_Area'] == 'Rural']\n",
    "casualties_by_district = rural_casualty.groupby('District Area')['Number_of_Casualties'].sum().head(1)\n",
    "\n",
    "casualties_by_district"
   ]
  },
  {
   "cell_type": "markdown",
   "id": "f40cf319-89a8-4e46-813e-cf60376ad816",
   "metadata": {},
   "source": [
    "<h4>Insights : Aberdeen City reports the highest casualty count in rural areas, highlighting a notable concentration of incidents outside urban zones.</h4>"
   ]
  },
  {
   "cell_type": "markdown",
   "id": "089b9a67-8e2d-4c23-8f6a-63984769ad55",
   "metadata": {},
   "source": [
    "<hr>\n",
    "<h2>Question 16</h2>\n",
    "<h3>What is the distribution of casualty counts across different vehicle types and area types?</h3>"
   ]
  },
  {
   "cell_type": "code",
   "execution_count": 30,
   "id": "f1e85041-f160-4fea-8b1c-88f34b12f228",
   "metadata": {},
   "outputs": [
    {
     "data": {
      "text/plain": [
       "Urban_or_Rural_Area  Vehicle_Type                         \n",
       "Rural                Agricultural vehicle                        973\n",
       "                     Bus or coach (17 or more pass seats)      13338\n",
       "                     Car                                      269416\n",
       "                     Data missing or out of range                  0\n",
       "                     Goods 7.5 tonnes mgw and over              8974\n",
       "                     Goods over 3.5t. and under 7.5t            3349\n",
       "                     Minibus (8 - 16 passenger seats)           1031\n",
       "                     Motorcycle 125cc and under                 7379\n",
       "                     Motorcycle 50cc and under                  3944\n",
       "                     Motorcycle over 125cc and up to 500cc      3887\n",
       "                     Motorcycle over 500cc                     13228\n",
       "                     Other vehicle                              2856\n",
       "                     Pedal cycle                                 106\n",
       "                     Ridden horse                                  2\n",
       "                     Taxi/Private hire car                      7024\n",
       "                     Van / Goods 3.5 tonnes mgw or under       18008\n",
       "Unallocated          Agricultural vehicle                          0\n",
       "                     Bus or coach (17 or more pass seats)          2\n",
       "                     Car                                          10\n",
       "                     Data missing or out of range                  0\n",
       "                     Goods 7.5 tonnes mgw and over                 0\n",
       "                     Goods over 3.5t. and under 7.5t               0\n",
       "                     Minibus (8 - 16 passenger seats)              0\n",
       "                     Motorcycle 125cc and under                    0\n",
       "                     Motorcycle 50cc and under                     0\n",
       "                     Motorcycle over 125cc and up to 500cc         0\n",
       "                     Motorcycle over 500cc                         0\n",
       "                     Other vehicle                                 0\n",
       "                     Pedal cycle                                   0\n",
       "                     Ridden horse                                  0\n",
       "                     Taxi/Private hire car                         0\n",
       "                     Van / Goods 3.5 tonnes mgw or under           1\n",
       "Urban                Agricultural vehicle                       1640\n",
       "                     Bus or coach (17 or more pass seats)      21575\n",
       "                     Car                                      407266\n",
       "                     Data missing or out of range                  9\n",
       "                     Goods 7.5 tonnes mgw and over             14423\n",
       "                     Goods over 3.5t. and under 7.5t            4959\n",
       "                     Minibus (8 - 16 passenger seats)           1628\n",
       "                     Motorcycle 125cc and under                12969\n",
       "                     Motorcycle 50cc and under                  6223\n",
       "                     Motorcycle over 125cc and up to 500cc      6399\n",
       "                     Motorcycle over 500cc                     21651\n",
       "                     Other vehicle                              4698\n",
       "                     Pedal cycle                                 164\n",
       "                     Ridden horse                                  3\n",
       "                     Taxi/Private hire car                     11171\n",
       "                     Van / Goods 3.5 tonnes mgw or under       28262\n",
       "Name: Number_of_Casualties, dtype: int64"
      ]
     },
     "execution_count": 30,
     "metadata": {},
     "output_type": "execute_result"
    }
   ],
   "source": [
    "casualty_distribution = accidents.groupby(['Urban_or_Rural_Area', 'Vehicle_Type'])['Number_of_Casualties'].sum()\n",
    "casualty_distribution"
   ]
  },
  {
   "cell_type": "markdown",
   "id": "28f1f918-d959-4b3d-84c8-69a136409053",
   "metadata": {},
   "source": [
    "<h4>Insights : As we can see the distribution of casualty counts Cars cause the most casualties in both urban and rural locations. Motorcycles and vans are heavily involved in both zones, with agricultural and heavy cargo vehicles causing the most casualties in rural areas.</h4>"
   ]
  },
  {
   "cell_type": "markdown",
   "id": "629a9737-9e74-45ab-a08c-15c2f6813f6b",
   "metadata": {},
   "source": [
    "<hr>\n",
    "<h2>Question 17</h2>\n",
    "<h3>What is the average number of casualties for dry road surface condition?</h3>"
   ]
  },
  {
   "cell_type": "code",
   "execution_count": 31,
   "id": "26c75318-f50d-4496-9b0f-9a18679d95cd",
   "metadata": {},
   "outputs": [
    {
     "data": {
      "text/plain": [
       "np.float64(1.3345446519539759)"
      ]
     },
     "execution_count": 31,
     "metadata": {},
     "output_type": "execute_result"
    }
   ],
   "source": [
    "dry_avg = accidents[accidents['Road_Surface_Conditions'] == 'Dry']['Number_of_Casualties'].mean()\n",
    "\n",
    "dry_avg "
   ]
  },
  {
   "cell_type": "markdown",
   "id": "01dbb0ac-6ef4-4619-8e8d-df382031e630",
   "metadata": {},
   "source": [
    "<h4>Insights : Dry road conditions average about 1.33 casualties per accident. This suggests that even in ideal surface conditions, accidents can still result in multiple injuries.</h4>"
   ]
  },
  {
   "cell_type": "markdown",
   "id": "38123c3e-ff7a-4fd7-b9f8-efc2772135c8",
   "metadata": {},
   "source": [
    "<hr>\n",
    "<h2>Question 18</h2>\n",
    "<h3>Which is the highest number of casualties in road surface condition?</h3>"
   ]
  },
  {
   "cell_type": "code",
   "execution_count": 32,
   "id": "a706cd60-c20c-42e4-a3dc-c53f0483a388",
   "metadata": {},
   "outputs": [
    {
     "data": {
      "text/plain": [
       "Road_Surface_Conditions\n",
       "Dry                     45\n",
       "Flood over 3cm. deep     9\n",
       "Frost or ice            48\n",
       "Snow                    18\n",
       "Wet or damp             68\n",
       "Name: Number_of_Casualties, dtype: int64"
      ]
     },
     "execution_count": 32,
     "metadata": {},
     "output_type": "execute_result"
    }
   ],
   "source": [
    "min_casualties = accidents.groupby('Road_Surface_Conditions')['Number_of_Casualties'].max()\n",
    "\n",
    "min_casualties"
   ]
  },
  {
   "cell_type": "markdown",
   "id": "c55ecc70-c13e-4f77-a834-6b6b0737cce4",
   "metadata": {},
   "source": [
    "<h4>Insights : Wet or damp roads lead to the highest number of casualties among all surface conditions. This highlights how reduced traction and visibility can significantly increase accident severity.</h4>"
   ]
  },
  {
   "cell_type": "markdown",
   "id": "72b7fee0-2241-4125-9fbf-0bc8621f059c",
   "metadata": {},
   "source": [
    "<hr>\n",
    "<h2>Question 19</h2>\n",
    "<h3>What is the average number of casualties for each type of weather condition?</h3>"
   ]
  },
  {
   "cell_type": "code",
   "execution_count": 33,
   "id": "b1c96418-7ddd-4c8e-bd4b-f4be83041aa1",
   "metadata": {},
   "outputs": [
    {
     "data": {
      "text/plain": [
       "Weather_Conditions\n",
       "Fine + high winds        1.386018\n",
       "Fine no high winds       1.347397\n",
       "Fog or mist              1.452948\n",
       "Other                    1.354869\n",
       "Raining + high winds     1.416641\n",
       "Raining no high winds    1.408214\n",
       "Snowing + high winds     1.418079\n",
       "Snowing no high winds    1.341776\n",
       "Name: Number_of_Casualties, dtype: float64"
      ]
     },
     "execution_count": 33,
     "metadata": {},
     "output_type": "execute_result"
    }
   ],
   "source": [
    "average_casualties = accidents.groupby('Weather_Conditions')['Number_of_Casualties'].mean()\n",
    "\n",
    "average_casualties"
   ]
  },
  {
   "cell_type": "markdown",
   "id": "23079bf7-6f01-40f1-980f-00c99e11eedb",
   "metadata": {},
   "source": [
    "<h4>Insights : Fog or mist leads to the highest average casualties per accident, suggesting visibility plays a major role in severity.</h4>"
   ]
  },
  {
   "cell_type": "markdown",
   "id": "c3099a95-b69d-49ad-ad1d-f12485834ef3",
   "metadata": {},
   "source": [
    "<hr>\n",
    "<h2>Question 20</h2>\n",
    "<h3>What weather condition has the most accidents?</h3>"
   ]
  },
  {
   "cell_type": "code",
   "execution_count": 34,
   "id": "b1581f29-b860-4707-93de-3fbf0cf57ba6",
   "metadata": {},
   "outputs": [
    {
     "data": {
      "text/plain": [
       "Weather_Conditions\n",
       "Fine no high winds       535013\n",
       "Raining no high winds     79696\n",
       "Other                     17150\n",
       "Raining + high winds       9615\n",
       "Fine + high winds          8554\n",
       "Snowing no high winds      6238\n",
       "Fog or mist                3528\n",
       "Snowing + high winds        885\n",
       "Name: count, dtype: int64"
      ]
     },
     "execution_count": 34,
     "metadata": {},
     "output_type": "execute_result"
    }
   ],
   "source": [
    "most_accidents = accidents['Weather_Conditions'].value_counts()\n",
    "\n",
    "most_accidents"
   ]
  },
  {
   "cell_type": "markdown",
   "id": "47fbc57b-2d8f-4fe7-b3af-58995425c195",
   "metadata": {},
   "source": [
    "<h4>Insights : Most accidents occur during fine weather with no high winds, likely due to higher traffic volumes and driver complacency. Rainy conditions follow, showing that wet roads still pose significant risk despite lower traffic.</h4>"
   ]
  },
  {
   "cell_type": "markdown",
   "id": "689a454a-ef26-4c03-8dc4-4be989bd8fe5",
   "metadata": {},
   "source": [
    "<h1>Clearing any Inconsistencies with Data Set </h1>"
   ]
  },
  {
   "cell_type": "code",
   "execution_count": 35,
   "id": "958083fe-a341-495f-85a2-0fe6c795b74e",
   "metadata": {},
   "outputs": [],
   "source": [
    "accidents['Accident Date'] = pd.to_datetime(accidents['Accident Date'], dayfirst = True, errors = 'coerce')"
   ]
  },
  {
   "cell_type": "code",
   "execution_count": 36,
   "id": "999173a7-c498-4b01-bf95-ba5f2d2f2adf",
   "metadata": {},
   "outputs": [
    {
     "data": {
      "text/plain": [
       "Index                              object\n",
       "Accident_Severity                category\n",
       "Accident Date              datetime64[ns]\n",
       "Latitude                          float64\n",
       "Light_Conditions                 category\n",
       "District Area                    category\n",
       "Longitude                         float64\n",
       "Number_of_Casualties                int64\n",
       "Number_of_Vehicles                  int64\n",
       "Road_Surface_Conditions          category\n",
       "Road_Type                        category\n",
       "Urban_or_Rural_Area              category\n",
       "Weather_Conditions               category\n",
       "Vehicle_Type                     category\n",
       "dtype: object"
      ]
     },
     "execution_count": 36,
     "metadata": {},
     "output_type": "execute_result"
    }
   ],
   "source": [
    "accidents.dtypes"
   ]
  },
  {
   "cell_type": "markdown",
   "id": "14d55edf-efc5-4abf-be49-56ca131468fc",
   "metadata": {},
   "source": [
    "<h1>Extracting date information using pandas date time</h1>"
   ]
  },
  {
   "cell_type": "code",
   "execution_count": 37,
   "id": "89b66997-1190-409f-9172-526ea5bf4784",
   "metadata": {},
   "outputs": [],
   "source": [
    "# accidents['Accident Date'] = accidents['Accident Date'].str.strip()\n",
    "accidents['Accident Date'] = accidents['Accident Date'].astype('str')\n",
    "accidents['Accident Date'] = accidents['Accident Date'].str.replace('/','-')"
   ]
  },
  {
   "cell_type": "code",
   "execution_count": 38,
   "id": "ab177166-fef5-459b-8950-1e1021a93e01",
   "metadata": {},
   "outputs": [],
   "source": [
    "accidents['Accident Date'] = pd.to_datetime(accidents['Accident Date'], dayfirst = True, errors = 'coerce')"
   ]
  },
  {
   "cell_type": "code",
   "execution_count": 39,
   "id": "4cbbbb8f-3dbf-442f-b566-eddb6547ff99",
   "metadata": {},
   "outputs": [],
   "source": [
    "accidents['Year'] = accidents['Accident Date'].dt.year\n",
    "accidents['Month'] = accidents['Accident Date'].dt.month\n",
    "accidents['Day'] = accidents['Accident Date'].dt.day\n",
    "accidents['DayOfWeek'] = accidents['Accident Date'].dt.dayofweek"
   ]
  },
  {
   "cell_type": "markdown",
   "id": "d465058b-3a5e-416b-a796-f5a3d835dc95",
   "metadata": {},
   "source": [
    "<hr>\n",
    "<h2>Question 21</h2>\n",
    "<h3>Are serious/fatal accidents becoming more or less frequent over the years?</h3>"
   ]
  },
  {
   "cell_type": "code",
   "execution_count": 40,
   "id": "97986c3c-9678-4fc7-a836-2a4877a9e1c7",
   "metadata": {},
   "outputs": [
    {
     "data": {
      "text/plain": [
       "Year\n",
       "2019.0    10939\n",
       "2020.0    10288\n",
       "2021.0     9681\n",
       "2022.0     7889\n",
       "Name: count, dtype: int64"
      ]
     },
     "execution_count": 40,
     "metadata": {},
     "output_type": "execute_result"
    }
   ],
   "source": [
    "accidents['Accident Date'] = pd.to_datetime(accidents['Accident Date'])\n",
    "accidents['Year'] = accidents['Accident Date'].dt.year\n",
    "severe = accidents[(accidents['Accident_Severity'] == 'Serious') | (accidents['Accident_Severity'] == 'Fatal')]\n",
    "yearly_severe = severe['Year'].value_counts()\n",
    "\n",
    "yearly_severe"
   ]
  },
  {
   "cell_type": "markdown",
   "id": "67fa93e1-3de4-4299-ae74-d6e567bf8771",
   "metadata": {},
   "source": [
    "<h4>Insights : Serious and fatal accidents have decreased steadily from 2019 to 2022, reflecting a clear downward trend in their occurrence over this period.</h4>"
   ]
  },
  {
   "cell_type": "markdown",
   "id": "6ed92b44-b768-4ffa-970a-66512e25cf91",
   "metadata": {},
   "source": [
    "<hr>\n",
    "<h2>Question 22</h2>\n",
    "<h3>How has the average number of casualties per accident changed over the years?</h3>"
   ]
  },
  {
   "cell_type": "code",
   "execution_count": 41,
   "id": "a8d9f7b8-3bb8-4cb9-aa2c-5627bfd2dfb9",
   "metadata": {},
   "outputs": [
    {
     "data": {
      "text/plain": [
       "Year\n",
       "2019.0    1.358092\n",
       "2020.0    1.349002\n",
       "2021.0    1.351115\n",
       "2022.0    1.349934\n",
       "Name: Number_of_Casualties, dtype: float64"
      ]
     },
     "execution_count": 41,
     "metadata": {},
     "output_type": "execute_result"
    }
   ],
   "source": [
    "accidents['Accident Date'] = pd.to_datetime(accidents['Accident Date'])\n",
    "accidents['Year'] = accidents['Accident Date'].dt.year\n",
    "yearly_avg_casualties = (accidents.groupby('Year')['Number_of_Casualties'].mean())\n",
    "\n",
    "yearly_avg_casualties     "
   ]
  },
  {
   "cell_type": "markdown",
   "id": "735ee71c-6e75-48e4-8731-52bc216fa959",
   "metadata": {},
   "source": [
    "<h4>Insights : From 2019 to 2022, the average number of casualties per accident fluctuated little, remaining close to 1.35. Indicating that while the total number of accidents may vary, the casualty rate per incident has remained stable. </h4>"
   ]
  },
  {
   "cell_type": "markdown",
   "id": "72e0d2ef-6be8-431c-8360-4e5f86e23c25",
   "metadata": {},
   "source": [
    "<hr>\n",
    "<h2>Question 23</h2>\n",
    "<h3>How many casualties occurred each year?</h3>"
   ]
  },
  {
   "cell_type": "code",
   "execution_count": 42,
   "id": "35a11aec-d20a-4c8f-9581-8ac84046c27a",
   "metadata": {},
   "outputs": [
    {
     "data": {
      "text/plain": [
       "Year\n",
       "2019.0    97602\n",
       "2020.0    94650\n",
       "2021.0    89406\n",
       "2022.0    76683\n",
       "Name: Number_of_Casualties, dtype: int64"
      ]
     },
     "execution_count": 42,
     "metadata": {},
     "output_type": "execute_result"
    }
   ],
   "source": [
    "accidents['Accident Date'] = pd.to_datetime(accidents['Accident Date'])\n",
    "casualties_per_year = accidents.groupby('Year')['Number_of_Casualties'].sum()\n",
    "\n",
    "casualties_per_year"
   ]
  },
  {
   "cell_type": "markdown",
   "id": "aa5078bd-546b-4677-8aa3-5275115adcee",
   "metadata": {},
   "source": [
    "<h4>Insights : Casualties steadily declined from 97,602 in 2019 to 76,683 in 2022, marking a 21% drop over four years. The sharpest decrease occurred in 2022, suggesting a possible shift in safety measures or travel behavior.</h4>"
   ]
  },
  {
   "cell_type": "markdown",
   "id": "1ad0cae6-e9e9-46b9-82de-e8bcebf06907",
   "metadata": {},
   "source": [
    "<hr>\n",
    "<h2>Question 24</h2>\n",
    "<h3>Which vehicle type is associated with the highest number of casualties?</h3>"
   ]
  },
  {
   "cell_type": "code",
   "execution_count": 43,
   "id": "a8335443-cf4e-4399-b7e2-e63341c3948e",
   "metadata": {},
   "outputs": [
    {
     "data": {
      "text/plain": [
       "Vehicle_Type\n",
       "Agricultural vehicle                       2613\n",
       "Bus or coach (17 or more pass seats)      34915\n",
       "Car                                      676692\n",
       "Data missing or out of range                  9\n",
       "Goods 7.5 tonnes mgw and over             23397\n",
       "Goods over 3.5t. and under 7.5t            8308\n",
       "Minibus (8 - 16 passenger seats)           2659\n",
       "Motorcycle 125cc and under                20348\n",
       "Motorcycle 50cc and under                 10167\n",
       "Motorcycle over 125cc and up to 500cc     10286\n",
       "Motorcycle over 500cc                     34879\n",
       "Other vehicle                              7554\n",
       "Pedal cycle                                 270\n",
       "Ridden horse                                  5\n",
       "Taxi/Private hire car                     18195\n",
       "Van / Goods 3.5 tonnes mgw or under       46271\n",
       "Name: Number_of_Casualties, dtype: int64"
      ]
     },
     "execution_count": 43,
     "metadata": {},
     "output_type": "execute_result"
    }
   ],
   "source": [
    "casualties_by_vehicle = accidents.groupby('Vehicle_Type')['Number_of_Casualties'].sum()\n",
    "\n",
    "casualties_by_vehicle"
   ]
  },
  {
   "cell_type": "code",
   "execution_count": 57,
   "id": "a1347262-c7af-4856-8e35-529915f558f8",
   "metadata": {},
   "outputs": [
    {
     "data": {
      "image/png": "[encoded data removed]",
      "text/plain": [
       "<Figure size 1000x600 with 1 Axes>"
      ]
     },
     "metadata": {},
     "output_type": "display_data"
    }
   ],
   "source": [
    "casualties = accidents.groupby('Vehicle_Type')['Number_of_Casualties'].sum()\n",
    "\n",
    "casualties.sort_values(ascending=False).plot(kind='bar', color='skyblue')\n",
    "plt.title('Casualties by Vehicle Type')\n",
    "plt.ylabel('Number of Casualties')\n",
    "plt.gcf().set_size_inches(10, 6)\n",
    "plt.show()"
   ]
  },
  {
   "cell_type": "markdown",
   "id": "a3fa469b-8f36-462c-ae38-91c76303065a",
   "metadata": {},
   "source": [
    "<h4>Insights : Cars are linked to the highest number of casualties by far, with over 676,000 incidents more than 10 times that of the next highest category. Vans and buses follow. But motorcycles over 500cc also show a surprisingly high casualty count, highlighting their risk despite lower usage.</h4>"
   ]
  },
  {
   "cell_type": "markdown",
   "id": "f98ee69e-6096-48bd-9126-891f6ac641ab",
   "metadata": {},
   "source": [
    "<hr>\n",
    "<h2>Question 25</h2>\n",
    "<h3>Which road types are associated with the highest number of accidents?</h3>"
   ]
  },
  {
   "cell_type": "code",
   "execution_count": 53,
   "id": "7cfa3795-56d7-427a-bc8c-1a0e4e60acab",
   "metadata": {},
   "outputs": [
    {
     "data": {
      "image/png": "[encoded data removed]",
      "text/plain": [
       "<Figure size 1000x600 with 1 Axes>"
      ]
     },
     "metadata": {},
     "output_type": "display_data"
    }
   ],
   "source": [
    "road_counts = accidents['Road_Type'].value_counts()\n",
    "road_counts.plot(kind='bar', color=['skyblue', 'green', 'yellow', 'red', 'pink'])\n",
    "plt.title('Number of Accidents by Road Type')\n",
    "plt.xlabel('Road Type')\n",
    "plt.ylabel('Number of Accidents')\n",
    "plt.xticks(rotation=100)\n",
    "plt.gcf().set_size_inches(10, 6)"
   ]
  },
  {
   "cell_type": "markdown",
   "id": "db8cb880-7441-46b1-9a2e-0a435ca87d2f",
   "metadata": {},
   "source": [
    "<h4>Insights : Single carriageways account for the vast majority of accidents, with nearly 500,000 incidents—five times more than dual carriageways. Roundabouts and one-way streets show significantly fewer accidents, suggesting lower traffic volume or reduced speed zones.</h4>"
   ]
  },
  {
   "cell_type": "code",
   "execution_count": null,
   "id": "6ed086b8-2ce1-4576-a1a4-2e47a36076fe",
   "metadata": {},
   "outputs": [],
   "source": []
  }
 ],
 "metadata": {
  "kernelspec": {
   "display_name": "Python 3 (ipykernel)",
   "language": "python",
   "name": "python3"
  },
  "language_info": {
   "codemirror_mode": {
    "name": "ipython",
    "version": 3
   },
   "file_extension": ".py",
   "mimetype": "text/x-python",
   "name": "python",
   "nbconvert_exporter": "python",
   "pygments_lexer": "ipython3",
   "version": "3.13.1"
  }
 },
 "nbformat": 4,
 "nbformat_minor": 5
}
