{
 "cells": [
  {
   "cell_type": "markdown",
   "id": "f2c1dc31-01b8-46ae-880f-a4e56fdcab81",
   "metadata": {},
   "source": [
    "<h1>Activity 1: PALMER PENGUINS DATA ANALYTICS PROJECT</h1>\n",
    "<hr>\n",
    "<h2>Analyst : Elysalyn Barlan</h2>"
   ]
  },
  {
   "cell_type": "code",
   "execution_count": 1,
   "id": "0af4cb21-5569-43b6-bbec-f6666f38e45e",
   "metadata": {},
   "outputs": [],
   "source": [
    "#import libraries\n",
    "import numpy as np\n",
    "import pandas as pd\n",
    "import warnings \n",
    "warnings.filterwarnings('ignore')"
   ]
  },
  {
   "cell_type": "markdown",
   "id": "ef6d25d0-e47c-4278-8433-349fdbe80fab",
   "metadata": {},
   "source": [
    "<h2>Converting Dataset (s) into DataFrame</h2>\n",
    "<h3>Requirements</h3>\n",
    "<ul>\n",
    "    <li>\n",
    "        Name of DataFrame\n",
    "    </li>\n",
    "    <li>\n",
    "        File Path\n",
    "    </li>    \n",
    "</ul>"
   ]
  },
  {
   "cell_type": "code",
   "execution_count": 2,
   "id": "857174b9-3684-4fbd-b73a-ede3f29cbea0",
   "metadata": {},
   "outputs": [],
   "source": [
    "penguins = pd.read_csv('datasets\\\\penguins.csv')"
   ]
  },
  {
   "cell_type": "code",
   "execution_count": 3,
   "id": "2d3bc1d0-c6a8-4115-bbe6-7c5c086df0e4",
   "metadata": {},
   "outputs": [
    {
     "data": {
      "text/html": [
       "<div>\n",
       "<style scoped>\n",
       "    .dataframe tbody tr th:only-of-type {\n",
       "        vertical-align: middle;\n",
       "    }\n",
       "\n",
       "    .dataframe tbody tr th {\n",
       "        vertical-align: top;\n",
       "    }\n",
       "\n",
       "    .dataframe thead th {\n",
       "        text-align: right;\n",
       "    }\n",
       "</style>\n",
       "<table border=\"1\" class=\"dataframe\">\n",
       "  <thead>\n",
       "    <tr style=\"text-align: right;\">\n",
       "      <th></th>\n",
       "      <th>species</th>\n",
       "      <th>island</th>\n",
       "      <th>bill_length_mm</th>\n",
       "      <th>bill_depth_mm</th>\n",
       "      <th>flipper_length_mm</th>\n",
       "      <th>body_mass_g</th>\n",
       "      <th>sex</th>\n",
       "      <th>year</th>\n",
       "    </tr>\n",
       "  </thead>\n",
       "  <tbody>\n",
       "    <tr>\n",
       "      <th>0</th>\n",
       "      <td>Adelie</td>\n",
       "      <td>Torgersen</td>\n",
       "      <td>39.1</td>\n",
       "      <td>18.7</td>\n",
       "      <td>181.0</td>\n",
       "      <td>3750.0</td>\n",
       "      <td>male</td>\n",
       "      <td>2007</td>\n",
       "    </tr>\n",
       "    <tr>\n",
       "      <th>1</th>\n",
       "      <td>Adelie</td>\n",
       "      <td>Torgersen</td>\n",
       "      <td>39.5</td>\n",
       "      <td>17.4</td>\n",
       "      <td>186.0</td>\n",
       "      <td>3800.0</td>\n",
       "      <td>female</td>\n",
       "      <td>2007</td>\n",
       "    </tr>\n",
       "    <tr>\n",
       "      <th>2</th>\n",
       "      <td>Adelie</td>\n",
       "      <td>Torgersen</td>\n",
       "      <td>40.3</td>\n",
       "      <td>18.0</td>\n",
       "      <td>195.0</td>\n",
       "      <td>3250.0</td>\n",
       "      <td>female</td>\n",
       "      <td>2007</td>\n",
       "    </tr>\n",
       "    <tr>\n",
       "      <th>3</th>\n",
       "      <td>Adelie</td>\n",
       "      <td>Torgersen</td>\n",
       "      <td>NaN</td>\n",
       "      <td>NaN</td>\n",
       "      <td>NaN</td>\n",
       "      <td>NaN</td>\n",
       "      <td>NaN</td>\n",
       "      <td>2007</td>\n",
       "    </tr>\n",
       "    <tr>\n",
       "      <th>4</th>\n",
       "      <td>Adelie</td>\n",
       "      <td>Torgersen</td>\n",
       "      <td>36.7</td>\n",
       "      <td>19.3</td>\n",
       "      <td>193.0</td>\n",
       "      <td>3450.0</td>\n",
       "      <td>female</td>\n",
       "      <td>2007</td>\n",
       "    </tr>\n",
       "    <tr>\n",
       "      <th>...</th>\n",
       "      <td>...</td>\n",
       "      <td>...</td>\n",
       "      <td>...</td>\n",
       "      <td>...</td>\n",
       "      <td>...</td>\n",
       "      <td>...</td>\n",
       "      <td>...</td>\n",
       "      <td>...</td>\n",
       "    </tr>\n",
       "    <tr>\n",
       "      <th>339</th>\n",
       "      <td>Chinstrap</td>\n",
       "      <td>Dream</td>\n",
       "      <td>55.8</td>\n",
       "      <td>19.8</td>\n",
       "      <td>207.0</td>\n",
       "      <td>4000.0</td>\n",
       "      <td>male</td>\n",
       "      <td>2009</td>\n",
       "    </tr>\n",
       "    <tr>\n",
       "      <th>340</th>\n",
       "      <td>Chinstrap</td>\n",
       "      <td>Dream</td>\n",
       "      <td>43.5</td>\n",
       "      <td>18.1</td>\n",
       "      <td>202.0</td>\n",
       "      <td>3400.0</td>\n",
       "      <td>female</td>\n",
       "      <td>2009</td>\n",
       "    </tr>\n",
       "    <tr>\n",
       "      <th>341</th>\n",
       "      <td>Chinstrap</td>\n",
       "      <td>Dream</td>\n",
       "      <td>49.6</td>\n",
       "      <td>18.2</td>\n",
       "      <td>193.0</td>\n",
       "      <td>3775.0</td>\n",
       "      <td>male</td>\n",
       "      <td>2009</td>\n",
       "    </tr>\n",
       "    <tr>\n",
       "      <th>342</th>\n",
       "      <td>Chinstrap</td>\n",
       "      <td>Dream</td>\n",
       "      <td>50.8</td>\n",
       "      <td>19.0</td>\n",
       "      <td>210.0</td>\n",
       "      <td>4100.0</td>\n",
       "      <td>male</td>\n",
       "      <td>2009</td>\n",
       "    </tr>\n",
       "    <tr>\n",
       "      <th>343</th>\n",
       "      <td>Chinstrap</td>\n",
       "      <td>Dream</td>\n",
       "      <td>50.2</td>\n",
       "      <td>18.7</td>\n",
       "      <td>198.0</td>\n",
       "      <td>3775.0</td>\n",
       "      <td>female</td>\n",
       "      <td>2009</td>\n",
       "    </tr>\n",
       "  </tbody>\n",
       "</table>\n",
       "<p>344 rows × 8 columns</p>\n",
       "</div>"
      ],
      "text/plain": [
       "       species     island  bill_length_mm  bill_depth_mm  flipper_length_mm  \\\n",
       "0       Adelie  Torgersen            39.1           18.7              181.0   \n",
       "1       Adelie  Torgersen            39.5           17.4              186.0   \n",
       "2       Adelie  Torgersen            40.3           18.0              195.0   \n",
       "3       Adelie  Torgersen             NaN            NaN                NaN   \n",
       "4       Adelie  Torgersen            36.7           19.3              193.0   \n",
       "..         ...        ...             ...            ...                ...   \n",
       "339  Chinstrap      Dream            55.8           19.8              207.0   \n",
       "340  Chinstrap      Dream            43.5           18.1              202.0   \n",
       "341  Chinstrap      Dream            49.6           18.2              193.0   \n",
       "342  Chinstrap      Dream            50.8           19.0              210.0   \n",
       "343  Chinstrap      Dream            50.2           18.7              198.0   \n",
       "\n",
       "     body_mass_g     sex  year  \n",
       "0         3750.0    male  2007  \n",
       "1         3800.0  female  2007  \n",
       "2         3250.0  female  2007  \n",
       "3            NaN     NaN  2007  \n",
       "4         3450.0  female  2007  \n",
       "..           ...     ...   ...  \n",
       "339       4000.0    male  2009  \n",
       "340       3400.0  female  2009  \n",
       "341       3775.0    male  2009  \n",
       "342       4100.0    male  2009  \n",
       "343       3775.0  female  2009  \n",
       "\n",
       "[344 rows x 8 columns]"
      ]
     },
     "execution_count": 3,
     "metadata": {},
     "output_type": "execute_result"
    }
   ],
   "source": [
    "penguins"
   ]
  },
  {
   "cell_type": "code",
   "execution_count": 4,
   "id": "604e9957-0150-4234-a887-94eaad51048a",
   "metadata": {},
   "outputs": [
    {
     "data": {
      "text/html": [
       "<div>\n",
       "<style scoped>\n",
       "    .dataframe tbody tr th:only-of-type {\n",
       "        vertical-align: middle;\n",
       "    }\n",
       "\n",
       "    .dataframe tbody tr th {\n",
       "        vertical-align: top;\n",
       "    }\n",
       "\n",
       "    .dataframe thead th {\n",
       "        text-align: right;\n",
       "    }\n",
       "</style>\n",
       "<table border=\"1\" class=\"dataframe\">\n",
       "  <thead>\n",
       "    <tr style=\"text-align: right;\">\n",
       "      <th></th>\n",
       "      <th>bill_length_mm</th>\n",
       "      <th>bill_depth_mm</th>\n",
       "      <th>flipper_length_mm</th>\n",
       "      <th>body_mass_g</th>\n",
       "      <th>year</th>\n",
       "    </tr>\n",
       "  </thead>\n",
       "  <tbody>\n",
       "    <tr>\n",
       "      <th>count</th>\n",
       "      <td>342.000000</td>\n",
       "      <td>342.000000</td>\n",
       "      <td>342.000000</td>\n",
       "      <td>342.000000</td>\n",
       "      <td>344.000000</td>\n",
       "    </tr>\n",
       "    <tr>\n",
       "      <th>mean</th>\n",
       "      <td>43.921930</td>\n",
       "      <td>17.151170</td>\n",
       "      <td>200.915205</td>\n",
       "      <td>4201.754386</td>\n",
       "      <td>2008.029070</td>\n",
       "    </tr>\n",
       "    <tr>\n",
       "      <th>std</th>\n",
       "      <td>5.459584</td>\n",
       "      <td>1.974793</td>\n",
       "      <td>14.061714</td>\n",
       "      <td>801.954536</td>\n",
       "      <td>0.818356</td>\n",
       "    </tr>\n",
       "    <tr>\n",
       "      <th>min</th>\n",
       "      <td>32.100000</td>\n",
       "      <td>13.100000</td>\n",
       "      <td>172.000000</td>\n",
       "      <td>2700.000000</td>\n",
       "      <td>2007.000000</td>\n",
       "    </tr>\n",
       "    <tr>\n",
       "      <th>25%</th>\n",
       "      <td>39.225000</td>\n",
       "      <td>15.600000</td>\n",
       "      <td>190.000000</td>\n",
       "      <td>3550.000000</td>\n",
       "      <td>2007.000000</td>\n",
       "    </tr>\n",
       "    <tr>\n",
       "      <th>50%</th>\n",
       "      <td>44.450000</td>\n",
       "      <td>17.300000</td>\n",
       "      <td>197.000000</td>\n",
       "      <td>4050.000000</td>\n",
       "      <td>2008.000000</td>\n",
       "    </tr>\n",
       "    <tr>\n",
       "      <th>75%</th>\n",
       "      <td>48.500000</td>\n",
       "      <td>18.700000</td>\n",
       "      <td>213.000000</td>\n",
       "      <td>4750.000000</td>\n",
       "      <td>2009.000000</td>\n",
       "    </tr>\n",
       "    <tr>\n",
       "      <th>max</th>\n",
       "      <td>59.600000</td>\n",
       "      <td>21.500000</td>\n",
       "      <td>231.000000</td>\n",
       "      <td>6300.000000</td>\n",
       "      <td>2009.000000</td>\n",
       "    </tr>\n",
       "  </tbody>\n",
       "</table>\n",
       "</div>"
      ],
      "text/plain": [
       "       bill_length_mm  bill_depth_mm  flipper_length_mm  body_mass_g  \\\n",
       "count      342.000000     342.000000         342.000000   342.000000   \n",
       "mean        43.921930      17.151170         200.915205  4201.754386   \n",
       "std          5.459584       1.974793          14.061714   801.954536   \n",
       "min         32.100000      13.100000         172.000000  2700.000000   \n",
       "25%         39.225000      15.600000         190.000000  3550.000000   \n",
       "50%         44.450000      17.300000         197.000000  4050.000000   \n",
       "75%         48.500000      18.700000         213.000000  4750.000000   \n",
       "max         59.600000      21.500000         231.000000  6300.000000   \n",
       "\n",
       "              year  \n",
       "count   344.000000  \n",
       "mean   2008.029070  \n",
       "std       0.818356  \n",
       "min    2007.000000  \n",
       "25%    2007.000000  \n",
       "50%    2008.000000  \n",
       "75%    2009.000000  \n",
       "max    2009.000000  "
      ]
     },
     "execution_count": 4,
     "metadata": {},
     "output_type": "execute_result"
    }
   ],
   "source": [
    "penguins.describe()"
   ]
  },
  {
   "cell_type": "code",
   "execution_count": 5,
   "id": "f344ad09-99e1-4579-9d20-849b39cfea4b",
   "metadata": {},
   "outputs": [
    {
     "data": {
      "text/html": [
       "<div>\n",
       "<style scoped>\n",
       "    .dataframe tbody tr th:only-of-type {\n",
       "        vertical-align: middle;\n",
       "    }\n",
       "\n",
       "    .dataframe tbody tr th {\n",
       "        vertical-align: top;\n",
       "    }\n",
       "\n",
       "    .dataframe thead th {\n",
       "        text-align: right;\n",
       "    }\n",
       "</style>\n",
       "<table border=\"1\" class=\"dataframe\">\n",
       "  <thead>\n",
       "    <tr style=\"text-align: right;\">\n",
       "      <th></th>\n",
       "      <th>count</th>\n",
       "      <th>mean</th>\n",
       "      <th>std</th>\n",
       "      <th>min</th>\n",
       "      <th>25%</th>\n",
       "      <th>50%</th>\n",
       "      <th>75%</th>\n",
       "      <th>max</th>\n",
       "    </tr>\n",
       "  </thead>\n",
       "  <tbody>\n",
       "    <tr>\n",
       "      <th>bill_length_mm</th>\n",
       "      <td>342.0</td>\n",
       "      <td>43.921930</td>\n",
       "      <td>5.459584</td>\n",
       "      <td>32.1</td>\n",
       "      <td>39.225</td>\n",
       "      <td>44.45</td>\n",
       "      <td>48.5</td>\n",
       "      <td>59.6</td>\n",
       "    </tr>\n",
       "    <tr>\n",
       "      <th>bill_depth_mm</th>\n",
       "      <td>342.0</td>\n",
       "      <td>17.151170</td>\n",
       "      <td>1.974793</td>\n",
       "      <td>13.1</td>\n",
       "      <td>15.600</td>\n",
       "      <td>17.30</td>\n",
       "      <td>18.7</td>\n",
       "      <td>21.5</td>\n",
       "    </tr>\n",
       "    <tr>\n",
       "      <th>flipper_length_mm</th>\n",
       "      <td>342.0</td>\n",
       "      <td>200.915205</td>\n",
       "      <td>14.061714</td>\n",
       "      <td>172.0</td>\n",
       "      <td>190.000</td>\n",
       "      <td>197.00</td>\n",
       "      <td>213.0</td>\n",
       "      <td>231.0</td>\n",
       "    </tr>\n",
       "    <tr>\n",
       "      <th>body_mass_g</th>\n",
       "      <td>342.0</td>\n",
       "      <td>4201.754386</td>\n",
       "      <td>801.954536</td>\n",
       "      <td>2700.0</td>\n",
       "      <td>3550.000</td>\n",
       "      <td>4050.00</td>\n",
       "      <td>4750.0</td>\n",
       "      <td>6300.0</td>\n",
       "    </tr>\n",
       "    <tr>\n",
       "      <th>year</th>\n",
       "      <td>344.0</td>\n",
       "      <td>2008.029070</td>\n",
       "      <td>0.818356</td>\n",
       "      <td>2007.0</td>\n",
       "      <td>2007.000</td>\n",
       "      <td>2008.00</td>\n",
       "      <td>2009.0</td>\n",
       "      <td>2009.0</td>\n",
       "    </tr>\n",
       "  </tbody>\n",
       "</table>\n",
       "</div>"
      ],
      "text/plain": [
       "                   count         mean         std     min       25%      50%  \\\n",
       "bill_length_mm     342.0    43.921930    5.459584    32.1    39.225    44.45   \n",
       "bill_depth_mm      342.0    17.151170    1.974793    13.1    15.600    17.30   \n",
       "flipper_length_mm  342.0   200.915205   14.061714   172.0   190.000   197.00   \n",
       "body_mass_g        342.0  4201.754386  801.954536  2700.0  3550.000  4050.00   \n",
       "year               344.0  2008.029070    0.818356  2007.0  2007.000  2008.00   \n",
       "\n",
       "                      75%     max  \n",
       "bill_length_mm       48.5    59.6  \n",
       "bill_depth_mm        18.7    21.5  \n",
       "flipper_length_mm   213.0   231.0  \n",
       "body_mass_g        4750.0  6300.0  \n",
       "year               2009.0  2009.0  "
      ]
     },
     "execution_count": 5,
     "metadata": {},
     "output_type": "execute_result"
    }
   ],
   "source": [
    "penguins.describe().T"
   ]
  },
  {
   "cell_type": "code",
   "execution_count": 6,
   "id": "225f69c0-c654-44ec-b662-0176669bc8d6",
   "metadata": {},
   "outputs": [
    {
     "name": "stdout",
     "output_type": "stream",
     "text": [
      "<class 'pandas.core.frame.DataFrame'>\n",
      "RangeIndex: 344 entries, 0 to 343\n",
      "Data columns (total 8 columns):\n",
      " #   Column             Non-Null Count  Dtype  \n",
      "---  ------             --------------  -----  \n",
      " 0   species            344 non-null    object \n",
      " 1   island             344 non-null    object \n",
      " 2   bill_length_mm     342 non-null    float64\n",
      " 3   bill_depth_mm      342 non-null    float64\n",
      " 4   flipper_length_mm  342 non-null    float64\n",
      " 5   body_mass_g        342 non-null    float64\n",
      " 6   sex                333 non-null    object \n",
      " 7   year               344 non-null    int64  \n",
      "dtypes: float64(4), int64(1), object(3)\n",
      "memory usage: 21.6+ KB\n"
     ]
    }
   ],
   "source": [
    "penguins.info()"
   ]
  },
  {
   "cell_type": "markdown",
   "id": "a8874e3b-3828-4e9c-873c-1a478dc8926d",
   "metadata": {},
   "source": [
    "<h2>FILLING UP NULL VALUES</h2>"
   ]
  },
  {
   "cell_type": "code",
   "execution_count": 7,
   "id": "caf1adcb-5745-444b-8f32-5e303e406c5c",
   "metadata": {},
   "outputs": [
    {
     "data": {
      "text/plain": [
       "species               0\n",
       "island                0\n",
       "bill_length_mm        2\n",
       "bill_depth_mm         2\n",
       "flipper_length_mm     2\n",
       "body_mass_g           2\n",
       "sex                  11\n",
       "year                  0\n",
       "dtype: int64"
      ]
     },
     "execution_count": 7,
     "metadata": {},
     "output_type": "execute_result"
    }
   ],
   "source": [
    "penguins.isnull().sum()"
   ]
  },
  {
   "cell_type": "code",
   "execution_count": 8,
   "id": "cdf317c8-f431-4897-b07a-c6896dbd355d",
   "metadata": {},
   "outputs": [
    {
     "data": {
      "text/plain": [
       "np.float64(43.9219298245614)"
      ]
     },
     "execution_count": 8,
     "metadata": {},
     "output_type": "execute_result"
    }
   ],
   "source": [
    "penguins['bill_length_mm'].mean()"
   ]
  },
  {
   "cell_type": "code",
   "execution_count": 9,
   "id": "f4eb858e-c6c2-46e9-902b-bcd2998a4aca",
   "metadata": {},
   "outputs": [],
   "source": [
    "penguins['bill_length_mm'] = penguins['bill_length_mm'].fillna(penguins['bill_length_mm'].mean())"
   ]
  },
  {
   "cell_type": "code",
   "execution_count": 10,
   "id": "e738e2a1-dba1-4a5c-b721-b0d013086085",
   "metadata": {},
   "outputs": [
    {
     "data": {
      "text/plain": [
       "species               0\n",
       "island                0\n",
       "bill_length_mm        0\n",
       "bill_depth_mm         2\n",
       "flipper_length_mm     2\n",
       "body_mass_g           2\n",
       "sex                  11\n",
       "year                  0\n",
       "dtype: int64"
      ]
     },
     "execution_count": 10,
     "metadata": {},
     "output_type": "execute_result"
    }
   ],
   "source": [
    "penguins.isnull().sum()"
   ]
  },
  {
   "cell_type": "code",
   "execution_count": 11,
   "id": "443c5c8c-16a9-4320-8d89-b2a2c30c5288",
   "metadata": {},
   "outputs": [
    {
     "data": {
      "text/plain": [
       "np.float64(17.151169590643274)"
      ]
     },
     "execution_count": 11,
     "metadata": {},
     "output_type": "execute_result"
    }
   ],
   "source": [
    "penguins['bill_depth_mm'].mean()"
   ]
  },
  {
   "cell_type": "code",
   "execution_count": 12,
   "id": "f3cdea1a-b122-4fb2-a96e-7841a377b5e0",
   "metadata": {},
   "outputs": [],
   "source": [
    "penguins['bill_depth_mm'] = penguins['bill_depth_mm'].fillna(penguins['bill_depth_mm'].mean())"
   ]
  },
  {
   "cell_type": "code",
   "execution_count": 13,
   "id": "d89737a1-9add-4a3d-89f5-90a1cc784445",
   "metadata": {},
   "outputs": [
    {
     "data": {
      "text/plain": [
       "species               0\n",
       "island                0\n",
       "bill_length_mm        0\n",
       "bill_depth_mm         0\n",
       "flipper_length_mm     2\n",
       "body_mass_g           2\n",
       "sex                  11\n",
       "year                  0\n",
       "dtype: int64"
      ]
     },
     "execution_count": 13,
     "metadata": {},
     "output_type": "execute_result"
    }
   ],
   "source": [
    "penguins.isnull().sum()"
   ]
  },
  {
   "cell_type": "code",
   "execution_count": 14,
   "id": "dc889ed1-b0c1-4223-8d93-2314aa7234ce",
   "metadata": {},
   "outputs": [
    {
     "data": {
      "text/plain": [
       "np.float64(200.91520467836258)"
      ]
     },
     "execution_count": 14,
     "metadata": {},
     "output_type": "execute_result"
    }
   ],
   "source": [
    "penguins['flipper_length_mm'].mean()"
   ]
  },
  {
   "cell_type": "code",
   "execution_count": 15,
   "id": "e172a2a5-4f25-4c83-8dbe-c95f82d4d24f",
   "metadata": {},
   "outputs": [],
   "source": [
    "penguins['flipper_length_mm'] = penguins['flipper_length_mm'].fillna(penguins['flipper_length_mm'].mean())"
   ]
  },
  {
   "cell_type": "code",
   "execution_count": 16,
   "id": "e040b014-92af-4433-9c41-8e8339a6a747",
   "metadata": {},
   "outputs": [
    {
     "data": {
      "text/plain": [
       "species               0\n",
       "island                0\n",
       "bill_length_mm        0\n",
       "bill_depth_mm         0\n",
       "flipper_length_mm     0\n",
       "body_mass_g           2\n",
       "sex                  11\n",
       "year                  0\n",
       "dtype: int64"
      ]
     },
     "execution_count": 16,
     "metadata": {},
     "output_type": "execute_result"
    }
   ],
   "source": [
    "penguins.isnull().sum()"
   ]
  },
  {
   "cell_type": "code",
   "execution_count": 17,
   "id": "868282d6-4f48-4a17-a15f-a733f597938a",
   "metadata": {},
   "outputs": [
    {
     "data": {
      "text/plain": [
       "np.float64(4201.754385964912)"
      ]
     },
     "execution_count": 17,
     "metadata": {},
     "output_type": "execute_result"
    }
   ],
   "source": [
    "penguins['body_mass_g'].mean()"
   ]
  },
  {
   "cell_type": "code",
   "execution_count": 18,
   "id": "1b6b67ea-a65e-4b34-a63f-41d7032470ab",
   "metadata": {},
   "outputs": [],
   "source": [
    "penguins['body_mass_g'] = penguins['body_mass_g'].fillna(penguins['body_mass_g'].mean())"
   ]
  },
  {
   "cell_type": "code",
   "execution_count": 19,
   "id": "6e5f32e5-72a8-407b-af63-e40219776aa4",
   "metadata": {},
   "outputs": [
    {
     "data": {
      "text/plain": [
       "species               0\n",
       "island                0\n",
       "bill_length_mm        0\n",
       "bill_depth_mm         0\n",
       "flipper_length_mm     0\n",
       "body_mass_g           0\n",
       "sex                  11\n",
       "year                  0\n",
       "dtype: int64"
      ]
     },
     "execution_count": 19,
     "metadata": {},
     "output_type": "execute_result"
    }
   ],
   "source": [
    "penguins.isnull().sum()"
   ]
  },
  {
   "cell_type": "code",
   "execution_count": 20,
   "id": "84e441a0-d9b0-4428-b673-95c48b3527ef",
   "metadata": {},
   "outputs": [
    {
     "data": {
      "text/plain": [
       "0    male\n",
       "Name: sex, dtype: object"
      ]
     },
     "execution_count": 20,
     "metadata": {},
     "output_type": "execute_result"
    }
   ],
   "source": [
    "penguins['sex'].mode()"
   ]
  },
  {
   "cell_type": "code",
   "execution_count": 21,
   "id": "43531aa1-4c37-43da-b3db-b445c605e545",
   "metadata": {},
   "outputs": [],
   "source": [
    "penguins['sex'] = penguins['sex'].fillna(penguins['sex'].mode()[0])"
   ]
  },
  {
   "cell_type": "code",
   "execution_count": 22,
   "id": "4411c394-94ab-4c7e-bd95-44762b0f4cbe",
   "metadata": {},
   "outputs": [
    {
     "data": {
      "text/plain": [
       "species              0\n",
       "island               0\n",
       "bill_length_mm       0\n",
       "bill_depth_mm        0\n",
       "flipper_length_mm    0\n",
       "body_mass_g          0\n",
       "sex                  0\n",
       "year                 0\n",
       "dtype: int64"
      ]
     },
     "execution_count": 22,
     "metadata": {},
     "output_type": "execute_result"
    }
   ],
   "source": [
    "penguins.isnull().sum()"
   ]
  },
  {
   "cell_type": "markdown",
   "id": "988995d7-95ac-4aab-93c6-28bdf5e2b99c",
   "metadata": {},
   "source": [
    "<h2>CHANGING THE DATA TYPE</h2>"
   ]
  },
  {
   "cell_type": "code",
   "execution_count": 23,
   "id": "80493a93-f7e9-4387-aa37-cb804e1c43b1",
   "metadata": {},
   "outputs": [],
   "source": [
    "penguins['species'] = penguins['species'].astype('category')\n",
    "penguins['year'] = penguins['year'].astype('category')\n",
    "penguins['sex'] = penguins['sex'].astype('category')\n",
    "penguins['island'] = penguins['island'].astype('category')"
   ]
  },
  {
   "cell_type": "code",
   "execution_count": 24,
   "id": "83e79831-9ceb-4010-a497-affe963c7213",
   "metadata": {},
   "outputs": [
    {
     "name": "stdout",
     "output_type": "stream",
     "text": [
      "<class 'pandas.core.frame.DataFrame'>\n",
      "RangeIndex: 344 entries, 0 to 343\n",
      "Data columns (total 8 columns):\n",
      " #   Column             Non-Null Count  Dtype   \n",
      "---  ------             --------------  -----   \n",
      " 0   species            344 non-null    category\n",
      " 1   island             344 non-null    category\n",
      " 2   bill_length_mm     344 non-null    float64 \n",
      " 3   bill_depth_mm      344 non-null    float64 \n",
      " 4   flipper_length_mm  344 non-null    float64 \n",
      " 5   body_mass_g        344 non-null    float64 \n",
      " 6   sex                344 non-null    category\n",
      " 7   year               344 non-null    category\n",
      "dtypes: category(4), float64(4)\n",
      "memory usage: 12.7 KB\n"
     ]
    }
   ],
   "source": [
    "penguins.info()"
   ]
  },
  {
   "cell_type": "markdown",
   "id": "5bc94ddc-d85a-42ea-bc89-ed02a300ab36",
   "metadata": {},
   "source": [
    "<h2>CREATING COLUMN</h2>"
   ]
  },
  {
   "cell_type": "code",
   "execution_count": 25,
   "id": "47ed2f31-3f00-4348-ab1b-46a0bb9c2602",
   "metadata": {},
   "outputs": [
    {
     "data": {
      "text/plain": [
       "Index(['species', 'island', 'bill_length_mm', 'bill_depth_mm',\n",
       "       'flipper_length_mm', 'body_mass_g', 'sex', 'year'],\n",
       "      dtype='object')"
      ]
     },
     "execution_count": 25,
     "metadata": {},
     "output_type": "execute_result"
    }
   ],
   "source": [
    "penguins.columns"
   ]
  },
  {
   "cell_type": "code",
   "execution_count": 26,
   "id": "1c258b98-d852-49f1-adbb-4d094155b956",
   "metadata": {},
   "outputs": [],
   "source": [
    "penguins['mass_kg'] = np.round(penguins['body_mass_g'] / 1000, 1)"
   ]
  },
  {
   "cell_type": "code",
   "execution_count": 27,
   "id": "d3cce6ad-95fc-4830-8df4-f2c3e183c92d",
   "metadata": {},
   "outputs": [
    {
     "data": {
      "text/html": [
       "<div>\n",
       "<style scoped>\n",
       "    .dataframe tbody tr th:only-of-type {\n",
       "        vertical-align: middle;\n",
       "    }\n",
       "\n",
       "    .dataframe tbody tr th {\n",
       "        vertical-align: top;\n",
       "    }\n",
       "\n",
       "    .dataframe thead th {\n",
       "        text-align: right;\n",
       "    }\n",
       "</style>\n",
       "<table border=\"1\" class=\"dataframe\">\n",
       "  <thead>\n",
       "    <tr style=\"text-align: right;\">\n",
       "      <th></th>\n",
       "      <th>species</th>\n",
       "      <th>island</th>\n",
       "      <th>bill_length_mm</th>\n",
       "      <th>bill_depth_mm</th>\n",
       "      <th>flipper_length_mm</th>\n",
       "      <th>body_mass_g</th>\n",
       "      <th>sex</th>\n",
       "      <th>year</th>\n",
       "      <th>mass_kg</th>\n",
       "    </tr>\n",
       "  </thead>\n",
       "  <tbody>\n",
       "    <tr>\n",
       "      <th>0</th>\n",
       "      <td>Adelie</td>\n",
       "      <td>Torgersen</td>\n",
       "      <td>39.10000</td>\n",
       "      <td>18.70000</td>\n",
       "      <td>181.000000</td>\n",
       "      <td>3750.000000</td>\n",
       "      <td>male</td>\n",
       "      <td>2007</td>\n",
       "      <td>3.8</td>\n",
       "    </tr>\n",
       "    <tr>\n",
       "      <th>1</th>\n",
       "      <td>Adelie</td>\n",
       "      <td>Torgersen</td>\n",
       "      <td>39.50000</td>\n",
       "      <td>17.40000</td>\n",
       "      <td>186.000000</td>\n",
       "      <td>3800.000000</td>\n",
       "      <td>female</td>\n",
       "      <td>2007</td>\n",
       "      <td>3.8</td>\n",
       "    </tr>\n",
       "    <tr>\n",
       "      <th>2</th>\n",
       "      <td>Adelie</td>\n",
       "      <td>Torgersen</td>\n",
       "      <td>40.30000</td>\n",
       "      <td>18.00000</td>\n",
       "      <td>195.000000</td>\n",
       "      <td>3250.000000</td>\n",
       "      <td>female</td>\n",
       "      <td>2007</td>\n",
       "      <td>3.2</td>\n",
       "    </tr>\n",
       "    <tr>\n",
       "      <th>3</th>\n",
       "      <td>Adelie</td>\n",
       "      <td>Torgersen</td>\n",
       "      <td>43.92193</td>\n",
       "      <td>17.15117</td>\n",
       "      <td>200.915205</td>\n",
       "      <td>4201.754386</td>\n",
       "      <td>male</td>\n",
       "      <td>2007</td>\n",
       "      <td>4.2</td>\n",
       "    </tr>\n",
       "    <tr>\n",
       "      <th>4</th>\n",
       "      <td>Adelie</td>\n",
       "      <td>Torgersen</td>\n",
       "      <td>36.70000</td>\n",
       "      <td>19.30000</td>\n",
       "      <td>193.000000</td>\n",
       "      <td>3450.000000</td>\n",
       "      <td>female</td>\n",
       "      <td>2007</td>\n",
       "      <td>3.4</td>\n",
       "    </tr>\n",
       "    <tr>\n",
       "      <th>...</th>\n",
       "      <td>...</td>\n",
       "      <td>...</td>\n",
       "      <td>...</td>\n",
       "      <td>...</td>\n",
       "      <td>...</td>\n",
       "      <td>...</td>\n",
       "      <td>...</td>\n",
       "      <td>...</td>\n",
       "      <td>...</td>\n",
       "    </tr>\n",
       "    <tr>\n",
       "      <th>339</th>\n",
       "      <td>Chinstrap</td>\n",
       "      <td>Dream</td>\n",
       "      <td>55.80000</td>\n",
       "      <td>19.80000</td>\n",
       "      <td>207.000000</td>\n",
       "      <td>4000.000000</td>\n",
       "      <td>male</td>\n",
       "      <td>2009</td>\n",
       "      <td>4.0</td>\n",
       "    </tr>\n",
       "    <tr>\n",
       "      <th>340</th>\n",
       "      <td>Chinstrap</td>\n",
       "      <td>Dream</td>\n",
       "      <td>43.50000</td>\n",
       "      <td>18.10000</td>\n",
       "      <td>202.000000</td>\n",
       "      <td>3400.000000</td>\n",
       "      <td>female</td>\n",
       "      <td>2009</td>\n",
       "      <td>3.4</td>\n",
       "    </tr>\n",
       "    <tr>\n",
       "      <th>341</th>\n",
       "      <td>Chinstrap</td>\n",
       "      <td>Dream</td>\n",
       "      <td>49.60000</td>\n",
       "      <td>18.20000</td>\n",
       "      <td>193.000000</td>\n",
       "      <td>3775.000000</td>\n",
       "      <td>male</td>\n",
       "      <td>2009</td>\n",
       "      <td>3.8</td>\n",
       "    </tr>\n",
       "    <tr>\n",
       "      <th>342</th>\n",
       "      <td>Chinstrap</td>\n",
       "      <td>Dream</td>\n",
       "      <td>50.80000</td>\n",
       "      <td>19.00000</td>\n",
       "      <td>210.000000</td>\n",
       "      <td>4100.000000</td>\n",
       "      <td>male</td>\n",
       "      <td>2009</td>\n",
       "      <td>4.1</td>\n",
       "    </tr>\n",
       "    <tr>\n",
       "      <th>343</th>\n",
       "      <td>Chinstrap</td>\n",
       "      <td>Dream</td>\n",
       "      <td>50.20000</td>\n",
       "      <td>18.70000</td>\n",
       "      <td>198.000000</td>\n",
       "      <td>3775.000000</td>\n",
       "      <td>female</td>\n",
       "      <td>2009</td>\n",
       "      <td>3.8</td>\n",
       "    </tr>\n",
       "  </tbody>\n",
       "</table>\n",
       "<p>344 rows × 9 columns</p>\n",
       "</div>"
      ],
      "text/plain": [
       "       species     island  bill_length_mm  bill_depth_mm  flipper_length_mm  \\\n",
       "0       Adelie  Torgersen        39.10000       18.70000         181.000000   \n",
       "1       Adelie  Torgersen        39.50000       17.40000         186.000000   \n",
       "2       Adelie  Torgersen        40.30000       18.00000         195.000000   \n",
       "3       Adelie  Torgersen        43.92193       17.15117         200.915205   \n",
       "4       Adelie  Torgersen        36.70000       19.30000         193.000000   \n",
       "..         ...        ...             ...            ...                ...   \n",
       "339  Chinstrap      Dream        55.80000       19.80000         207.000000   \n",
       "340  Chinstrap      Dream        43.50000       18.10000         202.000000   \n",
       "341  Chinstrap      Dream        49.60000       18.20000         193.000000   \n",
       "342  Chinstrap      Dream        50.80000       19.00000         210.000000   \n",
       "343  Chinstrap      Dream        50.20000       18.70000         198.000000   \n",
       "\n",
       "     body_mass_g     sex  year  mass_kg  \n",
       "0    3750.000000    male  2007      3.8  \n",
       "1    3800.000000  female  2007      3.8  \n",
       "2    3250.000000  female  2007      3.2  \n",
       "3    4201.754386    male  2007      4.2  \n",
       "4    3450.000000  female  2007      3.4  \n",
       "..           ...     ...   ...      ...  \n",
       "339  4000.000000    male  2009      4.0  \n",
       "340  3400.000000  female  2009      3.4  \n",
       "341  3775.000000    male  2009      3.8  \n",
       "342  4100.000000    male  2009      4.1  \n",
       "343  3775.000000  female  2009      3.8  \n",
       "\n",
       "[344 rows x 9 columns]"
      ]
     },
     "execution_count": 27,
     "metadata": {},
     "output_type": "execute_result"
    }
   ],
   "source": [
    "penguins"
   ]
  },
  {
   "cell_type": "markdown",
   "id": "df709666-dc7b-4c99-92a4-92a9a569c812",
   "metadata": {},
   "source": [
    "<h1> EXPLANATORY DATA ANALYSIS (EDA)</h1>\n",
    "<hr>\n",
    "<h2>Question 1 </h2>\n",
    "<h3>Which species has the shorter flipper length?</h3>"
   ]
  },
  {
   "cell_type": "code",
   "execution_count": 28,
   "id": "01f78bfa-8561-4bc6-b5cf-f0f33fe53aa8",
   "metadata": {},
   "outputs": [
    {
     "data": {
      "text/plain": [
       "np.float64(172.0)"
      ]
     },
     "execution_count": 28,
     "metadata": {},
     "output_type": "execute_result"
    }
   ],
   "source": [
    "penguins['flipper_length_mm'].min()"
   ]
  },
  {
   "cell_type": "code",
   "execution_count": 29,
   "id": "abd6c800-ab49-4a08-bc1a-bd67d90d4140",
   "metadata": {},
   "outputs": [
    {
     "data": {
      "text/html": [
       "<div>\n",
       "<style scoped>\n",
       "    .dataframe tbody tr th:only-of-type {\n",
       "        vertical-align: middle;\n",
       "    }\n",
       "\n",
       "    .dataframe tbody tr th {\n",
       "        vertical-align: top;\n",
       "    }\n",
       "\n",
       "    .dataframe thead th {\n",
       "        text-align: right;\n",
       "    }\n",
       "</style>\n",
       "<table border=\"1\" class=\"dataframe\">\n",
       "  <thead>\n",
       "    <tr style=\"text-align: right;\">\n",
       "      <th></th>\n",
       "      <th>species</th>\n",
       "      <th>island</th>\n",
       "      <th>bill_length_mm</th>\n",
       "      <th>bill_depth_mm</th>\n",
       "      <th>flipper_length_mm</th>\n",
       "      <th>body_mass_g</th>\n",
       "      <th>sex</th>\n",
       "      <th>year</th>\n",
       "      <th>mass_kg</th>\n",
       "    </tr>\n",
       "  </thead>\n",
       "  <tbody>\n",
       "    <tr>\n",
       "      <th>28</th>\n",
       "      <td>Adelie</td>\n",
       "      <td>Biscoe</td>\n",
       "      <td>37.9</td>\n",
       "      <td>18.6</td>\n",
       "      <td>172.0</td>\n",
       "      <td>3150.0</td>\n",
       "      <td>female</td>\n",
       "      <td>2007</td>\n",
       "      <td>3.2</td>\n",
       "    </tr>\n",
       "  </tbody>\n",
       "</table>\n",
       "</div>"
      ],
      "text/plain": [
       "   species  island  bill_length_mm  bill_depth_mm  flipper_length_mm  \\\n",
       "28  Adelie  Biscoe            37.9           18.6              172.0   \n",
       "\n",
       "    body_mass_g     sex  year  mass_kg  \n",
       "28       3150.0  female  2007      3.2  "
      ]
     },
     "execution_count": 29,
     "metadata": {},
     "output_type": "execute_result"
    }
   ],
   "source": [
    "penguins[penguins['flipper_length_mm'] == 172.0]"
   ]
  },
  {
   "cell_type": "markdown",
   "id": "99c3a5b5-b111-4200-bc88-60652f3f5abe",
   "metadata": {},
   "source": [
    "<h4>INSIGHT : Among all the species, Adelie penguins have the shortest flipper lenght about 172 mm.</h4>"
   ]
  },
  {
   "cell_type": "markdown",
   "id": "108017a1-1f55-4f9c-a67f-0a4f60f7691f",
   "metadata": {},
   "source": [
    "<hr>\n",
    "<h1>Question 2</h1>\n",
    "\n",
    "<h3>Which island has the highest population of Gentoo penguins?</h3>"
   ]
  },
  {
   "cell_type": "code",
   "execution_count": 30,
   "id": "bccb1015-65f1-4ccc-ac76-1369042bd96f",
   "metadata": {},
   "outputs": [
    {
     "data": {
      "text/plain": [
       "island\n",
       "Biscoe       168\n",
       "Dream        124\n",
       "Torgersen     52\n",
       "Name: count, dtype: int64"
      ]
     },
     "execution_count": 30,
     "metadata": {},
     "output_type": "execute_result"
    }
   ],
   "source": [
    "penguins['island'].value_counts()"
   ]
  },
  {
   "cell_type": "code",
   "execution_count": 31,
   "id": "20d67fc1-39e3-4ffa-909e-d3921e43e777",
   "metadata": {},
   "outputs": [],
   "source": [
    "Biscoe_il = penguins[(penguins['island'] == 'Biscoe') & (penguins['species'] == 'Gentoo')]\n",
    "\n",
    "Dream_il = penguins[(penguins['island'] == 'Dream') & (penguins['species'] == 'Gentoo')]\n",
    "\n",
    "Torgersen_il = penguins[(penguins['island'] == 'Torgersen ') & (penguins['species'] == 'Gentoo')]"
   ]
  },
  {
   "cell_type": "code",
   "execution_count": 32,
   "id": "0a71a800-05cd-42f5-ac79-4cff2daf6024",
   "metadata": {},
   "outputs": [
    {
     "name": "stdout",
     "output_type": "stream",
     "text": [
      "<class 'pandas.core.frame.DataFrame'>\n",
      "Index: 124 entries, 152 to 275\n",
      "Data columns (total 9 columns):\n",
      " #   Column             Non-Null Count  Dtype   \n",
      "---  ------             --------------  -----   \n",
      " 0   species            124 non-null    category\n",
      " 1   island             124 non-null    category\n",
      " 2   bill_length_mm     124 non-null    float64 \n",
      " 3   bill_depth_mm      124 non-null    float64 \n",
      " 4   flipper_length_mm  124 non-null    float64 \n",
      " 5   body_mass_g        124 non-null    float64 \n",
      " 6   sex                124 non-null    category\n",
      " 7   year               124 non-null    category\n",
      " 8   mass_kg            124 non-null    float64 \n",
      "dtypes: category(4), float64(5)\n",
      "memory usage: 6.8 KB\n"
     ]
    }
   ],
   "source": [
    "Biscoe_il.info()"
   ]
  },
  {
   "cell_type": "code",
   "execution_count": 33,
   "id": "eb1b04a4-2dff-48f9-adb5-2fed4f87c0f1",
   "metadata": {},
   "outputs": [
    {
     "name": "stdout",
     "output_type": "stream",
     "text": [
      "<class 'pandas.core.frame.DataFrame'>\n",
      "Index: 0 entries\n",
      "Data columns (total 9 columns):\n",
      " #   Column             Non-Null Count  Dtype   \n",
      "---  ------             --------------  -----   \n",
      " 0   species            0 non-null      category\n",
      " 1   island             0 non-null      category\n",
      " 2   bill_length_mm     0 non-null      float64 \n",
      " 3   bill_depth_mm      0 non-null      float64 \n",
      " 4   flipper_length_mm  0 non-null      float64 \n",
      " 5   body_mass_g        0 non-null      float64 \n",
      " 6   sex                0 non-null      category\n",
      " 7   year               0 non-null      category\n",
      " 8   mass_kg            0 non-null      float64 \n",
      "dtypes: category(4), float64(5)\n",
      "memory usage: 520.0 bytes\n"
     ]
    }
   ],
   "source": [
    "Dream_il.info()"
   ]
  },
  {
   "cell_type": "code",
   "execution_count": 34,
   "id": "cc425712-42c9-4477-b484-8d284f64ef27",
   "metadata": {},
   "outputs": [
    {
     "name": "stdout",
     "output_type": "stream",
     "text": [
      "<class 'pandas.core.frame.DataFrame'>\n",
      "Index: 0 entries\n",
      "Data columns (total 9 columns):\n",
      " #   Column             Non-Null Count  Dtype   \n",
      "---  ------             --------------  -----   \n",
      " 0   species            0 non-null      category\n",
      " 1   island             0 non-null      category\n",
      " 2   bill_length_mm     0 non-null      float64 \n",
      " 3   bill_depth_mm      0 non-null      float64 \n",
      " 4   flipper_length_mm  0 non-null      float64 \n",
      " 5   body_mass_g        0 non-null      float64 \n",
      " 6   sex                0 non-null      category\n",
      " 7   year               0 non-null      category\n",
      " 8   mass_kg            0 non-null      float64 \n",
      "dtypes: category(4), float64(5)\n",
      "memory usage: 520.0 bytes\n"
     ]
    }
   ],
   "source": [
    "Torgersen_il.info()"
   ]
  },
  {
   "cell_type": "markdown",
   "id": "eff89468-3741-496c-9763-432d0f3d60d7",
   "metadata": {},
   "source": [
    "<h4>INSIGHT : As shown in the results above, Biscoe Island is the only location where the Gentoo species has been recorded, with a total of 124 penguins. </h4>"
   ]
  },
  {
   "cell_type": "markdown",
   "id": "27ba3c1c-9691-455a-8d65-30d877888348",
   "metadata": {},
   "source": [
    "<hr>\n",
    "<h1>Question 3</h1>\n",
    "\n",
    "<h3>How many male penguins are found on Torgersen Island?</h3>"
   ]
  },
  {
   "cell_type": "code",
   "execution_count": 35,
   "id": "135503f0-0b7b-4639-abef-854856b862ad",
   "metadata": {},
   "outputs": [
    {
     "data": {
      "text/plain": [
       "np.int64(28)"
      ]
     },
     "execution_count": 35,
     "metadata": {},
     "output_type": "execute_result"
    }
   ],
   "source": [
    "((penguins['island'] == 'Torgersen') & (penguins['sex'] == 'male')).sum()"
   ]
  },
  {
   "cell_type": "markdown",
   "id": "26570b2b-391d-4591-b2b9-414c9a5ecd14",
   "metadata": {},
   "source": [
    "<h4>INSIGHT : A total of 28 male penguins have been recorded on Torgersen Island, based on the available dataset.</h4>"
   ]
  },
  {
   "cell_type": "markdown",
   "id": "37c3c253-627f-453c-b4e6-50a23c905300",
   "metadata": {},
   "source": [
    "<hr>\n",
    "<h1>Question 4</h1>\n",
    "\n",
    "<h3>What is the highest bill depth measurement recorded among Adelie penguins?</h3>"
   ]
  },
  {
   "cell_type": "code",
   "execution_count": 36,
   "id": "77a3c05c-eec6-408a-9e79-7b46ec19ca04",
   "metadata": {},
   "outputs": [],
   "source": [
    "adelie_penguins = penguins[penguins['species'] == 'Adelie']"
   ]
  },
  {
   "cell_type": "code",
   "execution_count": 37,
   "id": "509fc099-a862-49c1-b931-fc6f5b38a3b5",
   "metadata": {},
   "outputs": [
    {
     "data": {
      "text/plain": [
       "np.float64(21.5)"
      ]
     },
     "execution_count": 37,
     "metadata": {},
     "output_type": "execute_result"
    }
   ],
   "source": [
    "adelie_penguins['bill_depth_mm'].max()"
   ]
  },
  {
   "cell_type": "code",
   "execution_count": 38,
   "id": "07477436-de4c-49a9-9a81-df26227f3b2b",
   "metadata": {},
   "outputs": [
    {
     "data": {
      "text/html": [
       "<div>\n",
       "<style scoped>\n",
       "    .dataframe tbody tr th:only-of-type {\n",
       "        vertical-align: middle;\n",
       "    }\n",
       "\n",
       "    .dataframe tbody tr th {\n",
       "        vertical-align: top;\n",
       "    }\n",
       "\n",
       "    .dataframe thead th {\n",
       "        text-align: right;\n",
       "    }\n",
       "</style>\n",
       "<table border=\"1\" class=\"dataframe\">\n",
       "  <thead>\n",
       "    <tr style=\"text-align: right;\">\n",
       "      <th></th>\n",
       "      <th>species</th>\n",
       "      <th>island</th>\n",
       "      <th>bill_length_mm</th>\n",
       "      <th>bill_depth_mm</th>\n",
       "      <th>flipper_length_mm</th>\n",
       "      <th>body_mass_g</th>\n",
       "      <th>sex</th>\n",
       "      <th>year</th>\n",
       "      <th>mass_kg</th>\n",
       "    </tr>\n",
       "  </thead>\n",
       "  <tbody>\n",
       "    <tr>\n",
       "      <th>19</th>\n",
       "      <td>Adelie</td>\n",
       "      <td>Torgersen</td>\n",
       "      <td>46.0</td>\n",
       "      <td>21.5</td>\n",
       "      <td>194.0</td>\n",
       "      <td>4200.0</td>\n",
       "      <td>male</td>\n",
       "      <td>2007</td>\n",
       "      <td>4.2</td>\n",
       "    </tr>\n",
       "  </tbody>\n",
       "</table>\n",
       "</div>"
      ],
      "text/plain": [
       "   species     island  bill_length_mm  bill_depth_mm  flipper_length_mm  \\\n",
       "19  Adelie  Torgersen            46.0           21.5              194.0   \n",
       "\n",
       "    body_mass_g   sex  year  mass_kg  \n",
       "19       4200.0  male  2007      4.2  "
      ]
     },
     "execution_count": 38,
     "metadata": {},
     "output_type": "execute_result"
    }
   ],
   "source": [
    "penguins[penguins['bill_depth_mm'] == 21.5]"
   ]
  },
  {
   "cell_type": "markdown",
   "id": "be2063d4-abc6-474d-9588-10dccb9d77f8",
   "metadata": {},
   "source": [
    "<h5>INSIGHT : Among all Adelie penguins, the highest recorded bill depth is 21.5 mm. This measurement was observed in a male penguin located on Torgersen Island.</h5>"
   ]
  },
  {
   "cell_type": "markdown",
   "id": "0ffc895d-f55b-47f0-8abf-3b6d6e5bf1db",
   "metadata": {},
   "source": [
    "<hr>\n",
    "<h1>Question 5</h1>\n",
    "\n",
    "<h3>How many Chinstrap penguins have a bill length below 50 mm?</h3>"
   ]
  },
  {
   "cell_type": "code",
   "execution_count": 39,
   "id": "eef07dc2-0f9f-4f48-bd1b-53c0cf3216c6",
   "metadata": {},
   "outputs": [],
   "source": [
    "length_chinstrap = penguins[(penguins['species'] == 'Chinstrap') & (penguins['bill_length_mm'] <= 50)]"
   ]
  },
  {
   "cell_type": "code",
   "execution_count": 40,
   "id": "3e888d88-891f-487b-a627-abcf1eaea848",
   "metadata": {},
   "outputs": [
    {
     "data": {
      "text/plain": [
       "np.int64(38)"
      ]
     },
     "execution_count": 40,
     "metadata": {},
     "output_type": "execute_result"
    }
   ],
   "source": [
    "length_chinstrap.value_counts().sum()"
   ]
  },
  {
   "cell_type": "markdown",
   "id": "46c5bd63-6caf-443b-8a81-f57a6b8a3bfe",
   "metadata": {},
   "source": [
    "<h4>INSIGHT : There are 38 Chinstrap penguins with bill lengths shorter than 50 mm. This means their bill sizes can vary quite a bit within the species.</h4>"
   ]
  },
  {
   "cell_type": "markdown",
   "id": "35ba7ec1-c9a2-4308-80a7-7d61cd957176",
   "metadata": {},
   "source": [
    "<hr>\n",
    "<h1>Question 6</h1>\n",
    "\n",
    "<h3>Among all penguin species, which one has the greatest bill length?</h3>"
   ]
  },
  {
   "cell_type": "code",
   "execution_count": 41,
   "id": "4155c214-6b74-43e7-80d8-c91560b3bff6",
   "metadata": {},
   "outputs": [
    {
     "data": {
      "text/plain": [
       "np.float64(59.6)"
      ]
     },
     "execution_count": 41,
     "metadata": {},
     "output_type": "execute_result"
    }
   ],
   "source": [
    "penguins['bill_length_mm'].max()"
   ]
  },
  {
   "cell_type": "code",
   "execution_count": 42,
   "id": "2a494585-0d71-4029-aa9a-344cf628e9d6",
   "metadata": {},
   "outputs": [
    {
     "data": {
      "text/html": [
       "<div>\n",
       "<style scoped>\n",
       "    .dataframe tbody tr th:only-of-type {\n",
       "        vertical-align: middle;\n",
       "    }\n",
       "\n",
       "    .dataframe tbody tr th {\n",
       "        vertical-align: top;\n",
       "    }\n",
       "\n",
       "    .dataframe thead th {\n",
       "        text-align: right;\n",
       "    }\n",
       "</style>\n",
       "<table border=\"1\" class=\"dataframe\">\n",
       "  <thead>\n",
       "    <tr style=\"text-align: right;\">\n",
       "      <th></th>\n",
       "      <th>species</th>\n",
       "      <th>island</th>\n",
       "      <th>bill_length_mm</th>\n",
       "      <th>bill_depth_mm</th>\n",
       "      <th>flipper_length_mm</th>\n",
       "      <th>body_mass_g</th>\n",
       "      <th>sex</th>\n",
       "      <th>year</th>\n",
       "      <th>mass_kg</th>\n",
       "    </tr>\n",
       "  </thead>\n",
       "  <tbody>\n",
       "    <tr>\n",
       "      <th>185</th>\n",
       "      <td>Gentoo</td>\n",
       "      <td>Biscoe</td>\n",
       "      <td>59.6</td>\n",
       "      <td>17.0</td>\n",
       "      <td>230.0</td>\n",
       "      <td>6050.0</td>\n",
       "      <td>male</td>\n",
       "      <td>2007</td>\n",
       "      <td>6.0</td>\n",
       "    </tr>\n",
       "  </tbody>\n",
       "</table>\n",
       "</div>"
      ],
      "text/plain": [
       "    species  island  bill_length_mm  bill_depth_mm  flipper_length_mm  \\\n",
       "185  Gentoo  Biscoe            59.6           17.0              230.0   \n",
       "\n",
       "     body_mass_g   sex  year  mass_kg  \n",
       "185       6050.0  male  2007      6.0  "
      ]
     },
     "execution_count": 42,
     "metadata": {},
     "output_type": "execute_result"
    }
   ],
   "source": [
    "penguins[penguins['bill_length_mm'] == 59.6]"
   ]
  },
  {
   "cell_type": "markdown",
   "id": "ce733377-7bce-440a-902e-20e747c47cdd",
   "metadata": {},
   "source": [
    "<h4>INSIGHT : As we can see, the Gentoo penguin (no. 185), found in Biscoe and identified as male, has the longest bill length among all recorded penguin species.</h4>"
   ]
  },
  {
   "cell_type": "markdown",
   "id": "2783a7ba-93bb-4aec-83c9-71fd063ec2cc",
   "metadata": {},
   "source": [
    "<hr>\n",
    "<h1>Question 7</h1>\n",
    "\n",
    "<h3>Among Adelie penguins found on Dream Island, how many have flipper lengths over 200?</h3>"
   ]
  },
  {
   "cell_type": "code",
   "execution_count": 43,
   "id": "1f87dde4-0e7f-4ca3-a511-3762277f0a0f",
   "metadata": {},
   "outputs": [],
   "source": [
    "Adelie_flipper= penguins[(penguins['species'] == 'Adelie') & (penguins['island'] == 'Dream') & (penguins['flipper_length_mm'] > 200)]"
   ]
  },
  {
   "cell_type": "code",
   "execution_count": 44,
   "id": "a0393cda-a991-435b-8b6f-e523b50844df",
   "metadata": {},
   "outputs": [
    {
     "data": {
      "text/html": [
       "<div>\n",
       "<style scoped>\n",
       "    .dataframe tbody tr th:only-of-type {\n",
       "        vertical-align: middle;\n",
       "    }\n",
       "\n",
       "    .dataframe tbody tr th {\n",
       "        vertical-align: top;\n",
       "    }\n",
       "\n",
       "    .dataframe thead th {\n",
       "        text-align: right;\n",
       "    }\n",
       "</style>\n",
       "<table border=\"1\" class=\"dataframe\">\n",
       "  <thead>\n",
       "    <tr style=\"text-align: right;\">\n",
       "      <th></th>\n",
       "      <th>species</th>\n",
       "      <th>island</th>\n",
       "      <th>bill_length_mm</th>\n",
       "      <th>bill_depth_mm</th>\n",
       "      <th>flipper_length_mm</th>\n",
       "      <th>body_mass_g</th>\n",
       "      <th>sex</th>\n",
       "      <th>year</th>\n",
       "      <th>mass_kg</th>\n",
       "    </tr>\n",
       "  </thead>\n",
       "  <tbody>\n",
       "    <tr>\n",
       "      <th>90</th>\n",
       "      <td>Adelie</td>\n",
       "      <td>Dream</td>\n",
       "      <td>35.7</td>\n",
       "      <td>18.0</td>\n",
       "      <td>202.0</td>\n",
       "      <td>3550.0</td>\n",
       "      <td>female</td>\n",
       "      <td>2008</td>\n",
       "      <td>3.6</td>\n",
       "    </tr>\n",
       "    <tr>\n",
       "      <th>91</th>\n",
       "      <td>Adelie</td>\n",
       "      <td>Dream</td>\n",
       "      <td>41.1</td>\n",
       "      <td>18.1</td>\n",
       "      <td>205.0</td>\n",
       "      <td>4300.0</td>\n",
       "      <td>male</td>\n",
       "      <td>2008</td>\n",
       "      <td>4.3</td>\n",
       "    </tr>\n",
       "    <tr>\n",
       "      <th>95</th>\n",
       "      <td>Adelie</td>\n",
       "      <td>Dream</td>\n",
       "      <td>40.8</td>\n",
       "      <td>18.9</td>\n",
       "      <td>208.0</td>\n",
       "      <td>4300.0</td>\n",
       "      <td>male</td>\n",
       "      <td>2008</td>\n",
       "      <td>4.3</td>\n",
       "    </tr>\n",
       "    <tr>\n",
       "      <th>151</th>\n",
       "      <td>Adelie</td>\n",
       "      <td>Dream</td>\n",
       "      <td>41.5</td>\n",
       "      <td>18.5</td>\n",
       "      <td>201.0</td>\n",
       "      <td>4000.0</td>\n",
       "      <td>male</td>\n",
       "      <td>2009</td>\n",
       "      <td>4.0</td>\n",
       "    </tr>\n",
       "  </tbody>\n",
       "</table>\n",
       "</div>"
      ],
      "text/plain": [
       "    species island  bill_length_mm  bill_depth_mm  flipper_length_mm  \\\n",
       "90   Adelie  Dream            35.7           18.0              202.0   \n",
       "91   Adelie  Dream            41.1           18.1              205.0   \n",
       "95   Adelie  Dream            40.8           18.9              208.0   \n",
       "151  Adelie  Dream            41.5           18.5              201.0   \n",
       "\n",
       "     body_mass_g     sex  year  mass_kg  \n",
       "90        3550.0  female  2008      3.6  \n",
       "91        4300.0    male  2008      4.3  \n",
       "95        4300.0    male  2008      4.3  \n",
       "151       4000.0    male  2009      4.0  "
      ]
     },
     "execution_count": 44,
     "metadata": {},
     "output_type": "execute_result"
    }
   ],
   "source": [
    "Adelie_flipper"
   ]
  },
  {
   "cell_type": "markdown",
   "id": "8b5078b2-8cfb-4f27-9a73-b7026e984a39",
   "metadata": {},
   "source": [
    "<h4>INSIGHT : The dataset shows that four Adelie penguins located on Dream Island have flipper lengths above 200 mm, three are male, and one female.</h4>"
   ]
  },
  {
   "cell_type": "markdown",
   "id": "76f69249-4401-4e59-bb9d-37a0d04d9b46",
   "metadata": {},
   "source": [
    "<hr>\n",
    "<h1>Question 8</h1>\n",
    "\n",
    "<h3> Among all penguin species, which one has the highest average body mass for males?</h3>"
   ]
  },
  {
   "cell_type": "code",
   "execution_count": 47,
   "id": "c3e71dd5-c328-4d68-ba80-faaa5d03d7c1",
   "metadata": {},
   "outputs": [],
   "source": [
    "average_body_mass = penguins[penguins['sex'] == 'male'].groupby(['species'])['body_mass_g'].mean()"
   ]
  },
  {
   "cell_type": "code",
   "execution_count": 48,
   "id": "95f05584-8476-4f44-b1ee-5e2756ee52be",
   "metadata": {},
   "outputs": [
    {
     "data": {
      "text/plain": [
       "species\n",
       "Adelie       4013.629802\n",
       "Chinstrap    3938.970588\n",
       "Gentoo       5411.011430\n",
       "Name: body_mass_g, dtype: float64"
      ]
     },
     "execution_count": 48,
     "metadata": {},
     "output_type": "execute_result"
    }
   ],
   "source": [
    "average_body_mass"
   ]
  },
  {
   "cell_type": "markdown",
   "id": "9f9fa156-2b08-4f72-a0f7-b519a80a4143",
   "metadata": {},
   "source": [
    "<h4>INSIGHTS : As shown in the results above, the species with the highest average body mass for males is the Gentoo penguins.</h4>"
   ]
  },
  {
   "cell_type": "markdown",
   "id": "1bcf9381-8d01-465e-93a5-9de997ebddfc",
   "metadata": {},
   "source": [
    "<hr>\n",
    "<h1>Question 9</h1>\n",
    "\n",
    "<h3>What is the average bill depth of penguins recorded in each year in Dream island?</h3>"
   ]
  },
  {
   "cell_type": "code",
   "execution_count": 56,
   "id": "a460710c-0577-472d-80fa-cc5e11c741c5",
   "metadata": {},
   "outputs": [],
   "source": [
    "dream_bill_depth_per_year = penguins[penguins['island'] == 'Dream'].groupby(['year'])['bill_depth_mm'].mean()"
   ]
  },
  {
   "cell_type": "code",
   "execution_count": 51,
   "id": "c6fe9e16-f322-4a42-b479-3259140abfc2",
   "metadata": {},
   "outputs": [
    {
     "data": {
      "text/plain": [
       "year\n",
       "2007    18.573913\n",
       "2008    18.397059\n",
       "2009    18.063636\n",
       "Name: bill_depth_mm, dtype: float64"
      ]
     },
     "execution_count": 51,
     "metadata": {},
     "output_type": "execute_result"
    }
   ],
   "source": [
    "dream_bill_depth_per_year"
   ]
  },
  {
   "cell_type": "markdown",
   "id": "ded978df-6ba5-478d-a32e-0b32dc26abdd",
   "metadata": {},
   "source": [
    "<h4>INSIGHTS : The average bill depth of penguins in Dream Island showed a gradual decline over the three-year period. From 18.57 mm in 2007 to 18.06 mm in 2009.</h4>"
   ]
  },
  {
   "cell_type": "markdown",
   "id": "b9e7e272-25ab-45a1-83c8-4db56a65306a",
   "metadata": {},
   "source": [
    "<hr>\n",
    "<h1>Question 10</h1>\n",
    "\n",
    "<h3>In Torgersen island how many penguins have the flipper length below 180mm?</h3>"
   ]
  },
  {
   "cell_type": "code",
   "execution_count": 52,
   "id": "7e67ab2a-2e73-45bf-8537-052613701be0",
   "metadata": {},
   "outputs": [],
   "source": [
    "flipper_length = penguins[(penguins[\"island\"] == \"Torgersen\") & (penguins[\"flipper_length_mm\"] < 180)]"
   ]
  },
  {
   "cell_type": "code",
   "execution_count": 53,
   "id": "1d4242d7-0184-4c60-a068-aaf816053bc9",
   "metadata": {},
   "outputs": [
    {
     "data": {
      "text/html": [
       "<div>\n",
       "<style scoped>\n",
       "    .dataframe tbody tr th:only-of-type {\n",
       "        vertical-align: middle;\n",
       "    }\n",
       "\n",
       "    .dataframe tbody tr th {\n",
       "        vertical-align: top;\n",
       "    }\n",
       "\n",
       "    .dataframe thead th {\n",
       "        text-align: right;\n",
       "    }\n",
       "</style>\n",
       "<table border=\"1\" class=\"dataframe\">\n",
       "  <thead>\n",
       "    <tr style=\"text-align: right;\">\n",
       "      <th></th>\n",
       "      <th>species</th>\n",
       "      <th>island</th>\n",
       "      <th>bill_length_mm</th>\n",
       "      <th>bill_depth_mm</th>\n",
       "      <th>flipper_length_mm</th>\n",
       "      <th>body_mass_g</th>\n",
       "      <th>sex</th>\n",
       "      <th>year</th>\n",
       "      <th>mass_kg</th>\n",
       "    </tr>\n",
       "  </thead>\n",
       "  <tbody>\n",
       "    <tr>\n",
       "      <th>122</th>\n",
       "      <td>Adelie</td>\n",
       "      <td>Torgersen</td>\n",
       "      <td>40.2</td>\n",
       "      <td>17.0</td>\n",
       "      <td>176.0</td>\n",
       "      <td>3450.0</td>\n",
       "      <td>female</td>\n",
       "      <td>2009</td>\n",
       "      <td>3.4</td>\n",
       "    </tr>\n",
       "  </tbody>\n",
       "</table>\n",
       "</div>"
      ],
      "text/plain": [
       "    species     island  bill_length_mm  bill_depth_mm  flipper_length_mm  \\\n",
       "122  Adelie  Torgersen            40.2           17.0              176.0   \n",
       "\n",
       "     body_mass_g     sex  year  mass_kg  \n",
       "122       3450.0  female  2009      3.4  "
      ]
     },
     "execution_count": 53,
     "metadata": {},
     "output_type": "execute_result"
    }
   ],
   "source": [
    "flipper_length"
   ]
  },
  {
   "cell_type": "markdown",
   "id": "63a7b685-6d83-4b57-8ad4-cddd6e70e13b",
   "metadata": {},
   "source": [
    "<h4>INSIGHTS : On Torgersen Island, this penguin has a flipper length of 176.0 mm, which is below the 180 mm. This tells us that not all Adelie penguins have long flippers.</h4>"
   ]
  },
  {
   "cell_type": "markdown",
   "id": "739801a6-3f8b-4310-b27a-f63078131ee2",
   "metadata": {},
   "source": [
    "<hr>\n",
    "<h1>Question 11</h1>\n",
    "\n",
    "<h3>How many penguins of each species were recorded in each year?</h3>"
   ]
  },
  {
   "cell_type": "code",
   "execution_count": 54,
   "id": "e6107e57-a795-4fb0-bbe0-305a7ae314bf",
   "metadata": {},
   "outputs": [],
   "source": [
    "species_year_counts = penguins.groupby([\"species\", \"year\"]).size()"
   ]
  },
  {
   "cell_type": "code",
   "execution_count": 55,
   "id": "c5100953-ac4c-4f1a-8f2b-78b50cf1cb33",
   "metadata": {},
   "outputs": [
    {
     "data": {
      "text/plain": [
       "species    year\n",
       "Adelie     2007    50\n",
       "           2008    50\n",
       "           2009    52\n",
       "Chinstrap  2007    26\n",
       "           2008    18\n",
       "           2009    24\n",
       "Gentoo     2007    34\n",
       "           2008    46\n",
       "           2009    44\n",
       "dtype: int64"
      ]
     },
     "execution_count": 55,
     "metadata": {},
     "output_type": "execute_result"
    }
   ],
   "source": [
    "species_year_counts"
   ]
  },
  {
   "cell_type": "markdown",
   "id": "dbd5427f-22b2-44f0-ab12-ec331575cc44",
   "metadata": {},
   "source": [
    "<h4>INSIGHTS : From 2007 to 2009, Adelie penguins were recorded the most each year, with their numbers slowly incringeas. Chinstrap penguins dropped in 2008 then increased again in year 2009, while Gentoo penguins had their highest count in 2008.</h4>"
   ]
  },
  {
   "cell_type": "markdown",
   "id": "b90f52a5-0ed3-4205-8ed8-4902491e7a8f",
   "metadata": {},
   "source": [
    "<hr>\n",
    "<h1>Question 12</h1>\n",
    "\n",
    "<h3>In year 2009 how many penguins in Biscoe island have the bill depth below 40mm?</h3>"
   ]
  },
  {
   "cell_type": "code",
   "execution_count": 69,
   "id": "4ade7f86-ba55-4854-b63b-6bad7b66d203",
   "metadata": {},
   "outputs": [],
   "source": [
    "biscoe_low_bill_depth = penguins[(penguins[\"island\"] == \"Biscoe\") & (penguins[\"year\"] == 2009) & (penguins[\"bill_depth_mm\"] <= 40)].value_counts()"
   ]
  },
  {
   "cell_type": "markdown",
   "id": "854a0660-d1a0-4cf1-94a2-f30027b3bb59",
   "metadata": {},
   "source": [
    "biscoe_low_bill_depth"
   ]
  },
  {
   "cell_type": "markdown",
   "id": "91d94c2f-ad5a-43b5-a2d5-c9ddfd6d85b3",
   "metadata": {},
   "source": [
    "<h4>INSIGHTS : In 2009, there were 60 penguins on Biscoe Island with bill depths under 40 mm, 44 were Gentoo and 16 were Adelie. That means most of the slim-billed penguins were Gentoo, showing they probably have naturally shallower bills than Adelies.</h4>"
   ]
  },
  {
   "cell_type": "markdown",
   "id": "89fe616c-aa74-457e-a5ff-e887a71c09de",
   "metadata": {},
   "source": [
    "<hr>\n",
    "<h1>Question 13</h1>\n",
    "\n",
    "<h3>How many female penguins were recorded on each island in each year?</h3>"
   ]
  },
  {
   "cell_type": "code",
   "execution_count": 72,
   "id": "2a6c6d6c-6d65-4c85-b4f2-1011d836c2f3",
   "metadata": {},
   "outputs": [],
   "source": [
    "female_penguins = penguins[penguins['sex'] == 'female'].groupby(['island', 'year']).size()"
   ]
  },
  {
   "cell_type": "code",
   "execution_count": 73,
   "id": "e519b74c-8e0d-4c03-90e0-879e3da78b04",
   "metadata": {},
   "outputs": [
    {
     "data": {
      "text/plain": [
       "island     year\n",
       "Biscoe     2007    21\n",
       "           2008    31\n",
       "           2009    28\n",
       "Dream      2007    22\n",
       "           2008    17\n",
       "           2009    22\n",
       "Torgersen  2007     8\n",
       "           2008     8\n",
       "           2009     8\n",
       "dtype: int64"
      ]
     },
     "execution_count": 73,
     "metadata": {},
     "output_type": "execute_result"
    }
   ],
   "source": [
    "female_penguins"
   ]
  },
  {
   "cell_type": "markdown",
   "id": "d612549f-fb3d-4817-8f75-5f584fc74411",
   "metadata": {},
   "source": [
    "<h4>INSIGHTS : Biscoe Island had the highest number of recorded female penguins each year, increased in 2008 with 31 females. Torgersen Island showed a steady count of 8 females, while Dream Island’s numbers dropped in 2008 before returning to 22 in 2009.</h4>"
   ]
  }
 ],
 "metadata": {
  "kernelspec": {
   "display_name": "Python 3 (ipykernel)",
   "language": "python",
   "name": "python3"
  },
  "language_info": {
   "codemirror_mode": {
    "name": "ipython",
    "version": 3
   },
   "file_extension": ".py",
   "mimetype": "text/x-python",
   "name": "python",
   "nbconvert_exporter": "python",
   "pygments_lexer": "ipython3",
   "version": "3.13.1"
  }
 },
 "nbformat": 4,
 "nbformat_minor": 5
}
